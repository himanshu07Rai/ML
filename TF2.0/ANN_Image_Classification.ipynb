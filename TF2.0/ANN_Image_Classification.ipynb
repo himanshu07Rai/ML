{
  "nbformat": 4,
  "nbformat_minor": 0,
  "metadata": {
    "colab": {
      "name": "Untitled0.ipynb",
      "provenance": []
    },
    "kernelspec": {
      "name": "python3",
      "display_name": "Python 3"
    },
    "language_info": {
      "name": "python"
    },
    "accelerator": "GPU"
  },
  "cells": [
    {
      "cell_type": "markdown",
      "metadata": {
        "id": "soeYoqBgGrMO"
      },
      "source": [
        "Importing libraries"
      ]
    },
    {
      "cell_type": "code",
      "metadata": {
        "id": "JAU5ojFJFDvW"
      },
      "source": [
        "import tensorflow as tf\n",
        "import matplotlib.pyplot as plt"
      ],
      "execution_count": 23,
      "outputs": []
    },
    {
      "cell_type": "markdown",
      "metadata": {
        "id": "QR1MieZ6Gu8S"
      },
      "source": [
        "Importing Dataset"
      ]
    },
    {
      "cell_type": "code",
      "metadata": {
        "id": "uUgxeu2XFJYQ"
      },
      "source": [
        "mnist = tf.keras.datasets.mnist"
      ],
      "execution_count": 12,
      "outputs": []
    },
    {
      "cell_type": "markdown",
      "metadata": {
        "id": "dIlZ_JoEGyJM"
      },
      "source": [
        "Dividing dataset"
      ]
    },
    {
      "cell_type": "code",
      "metadata": {
        "colab": {
          "base_uri": "https://localhost:8080/"
        },
        "id": "vBr_wlX9Gh59",
        "outputId": "7279bfb0-5ce4-4c5a-e8ab-7b32c02a8fa7"
      },
      "source": [
        "(X_train,y_train),(X_test,y_test)=mnist.load_data()\n",
        "X_train,X_test = X_train/255.0, X_test/255.0\n",
        "print(\"X_train.shape : \",X_train.shape) "
      ],
      "execution_count": 13,
      "outputs": [
        {
          "output_type": "stream",
          "text": [
            "X_train.shape :  (60000, 28, 28)\n"
          ],
          "name": "stdout"
        }
      ]
    },
    {
      "cell_type": "markdown",
      "metadata": {
        "id": "mwr6PWLkHZ-1"
      },
      "source": [
        "Building Model"
      ]
    },
    {
      "cell_type": "code",
      "metadata": {
        "id": "4eJcGjCjGoMx"
      },
      "source": [
        "model = tf.keras.models.Sequential([\n",
        "    tf.keras.layers.Flatten(input_shape=(28,28)),\n",
        "    tf.keras.layers.Dense(128,activation='relu'),\n",
        "    tf.keras.layers.Dropout(0.2),\n",
        "    tf.keras.layers.Dropout(0.2),\n",
        "    tf.keras.layers.Dense(10, activation='softmax'),\n",
        "])"
      ],
      "execution_count": 37,
      "outputs": []
    },
    {
      "cell_type": "markdown",
      "metadata": {
        "id": "2NbZ8BaLJohA"
      },
      "source": [
        "Compile model"
      ]
    },
    {
      "cell_type": "code",
      "metadata": {
        "id": "riIOA3RrIM7j"
      },
      "source": [
        "model.compile(optimizer='adam',\n",
        "              loss='sparse_categorical_crossentropy',\n",
        "              metrics=['accuracy'])"
      ],
      "execution_count": 38,
      "outputs": []
    },
    {
      "cell_type": "markdown",
      "metadata": {
        "id": "ve8Jsc2RKCrc"
      },
      "source": [
        "Train model"
      ]
    },
    {
      "cell_type": "code",
      "metadata": {
        "colab": {
          "base_uri": "https://localhost:8080/"
        },
        "id": "dspWmaX7KCav",
        "outputId": "303fa680-fc27-4e62-c484-4e1da34b99d0"
      },
      "source": [
        "x = model.fit(X_train,y_train,epochs=50, validation_data=(X_test,y_test))"
      ],
      "execution_count": 39,
      "outputs": [
        {
          "output_type": "stream",
          "text": [
            "Epoch 1/50\n",
            "1875/1875 [==============================] - 5s 2ms/step - loss: 0.3424 - accuracy: 0.8997 - val_loss: 0.1534 - val_accuracy: 0.9542\n",
            "Epoch 2/50\n",
            "1875/1875 [==============================] - 4s 2ms/step - loss: 0.1795 - accuracy: 0.9474 - val_loss: 0.1136 - val_accuracy: 0.9662\n",
            "Epoch 3/50\n",
            "1875/1875 [==============================] - 4s 2ms/step - loss: 0.1427 - accuracy: 0.9581 - val_loss: 0.0928 - val_accuracy: 0.9717\n",
            "Epoch 4/50\n",
            "1875/1875 [==============================] - 4s 2ms/step - loss: 0.1203 - accuracy: 0.9640 - val_loss: 0.0872 - val_accuracy: 0.9744\n",
            "Epoch 5/50\n",
            "1875/1875 [==============================] - 4s 2ms/step - loss: 0.1107 - accuracy: 0.9656 - val_loss: 0.0793 - val_accuracy: 0.9768\n",
            "Epoch 6/50\n",
            "1875/1875 [==============================] - 4s 2ms/step - loss: 0.0969 - accuracy: 0.9696 - val_loss: 0.0747 - val_accuracy: 0.9781\n",
            "Epoch 7/50\n",
            "1875/1875 [==============================] - 4s 2ms/step - loss: 0.0890 - accuracy: 0.9726 - val_loss: 0.0739 - val_accuracy: 0.9772\n",
            "Epoch 8/50\n",
            "1875/1875 [==============================] - 4s 2ms/step - loss: 0.0837 - accuracy: 0.9733 - val_loss: 0.0732 - val_accuracy: 0.9772\n",
            "Epoch 9/50\n",
            "1875/1875 [==============================] - 4s 2ms/step - loss: 0.0787 - accuracy: 0.9742 - val_loss: 0.0754 - val_accuracy: 0.9775\n",
            "Epoch 10/50\n",
            "1875/1875 [==============================] - 4s 2ms/step - loss: 0.0733 - accuracy: 0.9760 - val_loss: 0.0745 - val_accuracy: 0.9770\n",
            "Epoch 11/50\n",
            "1875/1875 [==============================] - 4s 2ms/step - loss: 0.0720 - accuracy: 0.9768 - val_loss: 0.0729 - val_accuracy: 0.9784\n",
            "Epoch 12/50\n",
            "1875/1875 [==============================] - 4s 2ms/step - loss: 0.0686 - accuracy: 0.9780 - val_loss: 0.0756 - val_accuracy: 0.9781\n",
            "Epoch 13/50\n",
            "1875/1875 [==============================] - 4s 2ms/step - loss: 0.0674 - accuracy: 0.9777 - val_loss: 0.0774 - val_accuracy: 0.9785\n",
            "Epoch 14/50\n",
            "1875/1875 [==============================] - 4s 2ms/step - loss: 0.0626 - accuracy: 0.9800 - val_loss: 0.0784 - val_accuracy: 0.9773\n",
            "Epoch 15/50\n",
            "1875/1875 [==============================] - 4s 2ms/step - loss: 0.0621 - accuracy: 0.9793 - val_loss: 0.0752 - val_accuracy: 0.9791\n",
            "Epoch 16/50\n",
            "1875/1875 [==============================] - 4s 2ms/step - loss: 0.0576 - accuracy: 0.9816 - val_loss: 0.0749 - val_accuracy: 0.9792\n",
            "Epoch 17/50\n",
            "1875/1875 [==============================] - 4s 2ms/step - loss: 0.0570 - accuracy: 0.9809 - val_loss: 0.0787 - val_accuracy: 0.9787\n",
            "Epoch 18/50\n",
            "1875/1875 [==============================] - 4s 2ms/step - loss: 0.0548 - accuracy: 0.9815 - val_loss: 0.0789 - val_accuracy: 0.9805\n",
            "Epoch 19/50\n",
            "1875/1875 [==============================] - 4s 2ms/step - loss: 0.0536 - accuracy: 0.9819 - val_loss: 0.0825 - val_accuracy: 0.9794\n",
            "Epoch 20/50\n",
            "1875/1875 [==============================] - 4s 2ms/step - loss: 0.0516 - accuracy: 0.9826 - val_loss: 0.0805 - val_accuracy: 0.9798\n",
            "Epoch 21/50\n",
            "1875/1875 [==============================] - 4s 2ms/step - loss: 0.0504 - accuracy: 0.9834 - val_loss: 0.0795 - val_accuracy: 0.9796\n",
            "Epoch 22/50\n",
            "1875/1875 [==============================] - 4s 2ms/step - loss: 0.0505 - accuracy: 0.9832 - val_loss: 0.0847 - val_accuracy: 0.9792\n",
            "Epoch 23/50\n",
            "1875/1875 [==============================] - 4s 2ms/step - loss: 0.0495 - accuracy: 0.9834 - val_loss: 0.0873 - val_accuracy: 0.9795\n",
            "Epoch 24/50\n",
            "1875/1875 [==============================] - 4s 2ms/step - loss: 0.0460 - accuracy: 0.9843 - val_loss: 0.0881 - val_accuracy: 0.9787\n",
            "Epoch 25/50\n",
            "1875/1875 [==============================] - 4s 2ms/step - loss: 0.0442 - accuracy: 0.9850 - val_loss: 0.0863 - val_accuracy: 0.9803\n",
            "Epoch 26/50\n",
            "1875/1875 [==============================] - 4s 2ms/step - loss: 0.0451 - accuracy: 0.9845 - val_loss: 0.0902 - val_accuracy: 0.9797\n",
            "Epoch 27/50\n",
            "1875/1875 [==============================] - 4s 2ms/step - loss: 0.0455 - accuracy: 0.9844 - val_loss: 0.0936 - val_accuracy: 0.9793\n",
            "Epoch 28/50\n",
            "1875/1875 [==============================] - 4s 2ms/step - loss: 0.0430 - accuracy: 0.9856 - val_loss: 0.0828 - val_accuracy: 0.9804\n",
            "Epoch 29/50\n",
            "1875/1875 [==============================] - 4s 2ms/step - loss: 0.0433 - accuracy: 0.9852 - val_loss: 0.0900 - val_accuracy: 0.9789\n",
            "Epoch 30/50\n",
            "1875/1875 [==============================] - 4s 2ms/step - loss: 0.0424 - accuracy: 0.9858 - val_loss: 0.0852 - val_accuracy: 0.9813\n",
            "Epoch 31/50\n",
            "1875/1875 [==============================] - 4s 2ms/step - loss: 0.0415 - accuracy: 0.9856 - val_loss: 0.0956 - val_accuracy: 0.9796\n",
            "Epoch 32/50\n",
            "1875/1875 [==============================] - 4s 2ms/step - loss: 0.0423 - accuracy: 0.9857 - val_loss: 0.0928 - val_accuracy: 0.9807\n",
            "Epoch 33/50\n",
            "1875/1875 [==============================] - 4s 2ms/step - loss: 0.0404 - accuracy: 0.9860 - val_loss: 0.0979 - val_accuracy: 0.9791\n",
            "Epoch 34/50\n",
            "1875/1875 [==============================] - 4s 2ms/step - loss: 0.0371 - accuracy: 0.9872 - val_loss: 0.1022 - val_accuracy: 0.9793\n",
            "Epoch 35/50\n",
            "1875/1875 [==============================] - 4s 2ms/step - loss: 0.0414 - accuracy: 0.9864 - val_loss: 0.1005 - val_accuracy: 0.9791\n",
            "Epoch 36/50\n",
            "1875/1875 [==============================] - 4s 2ms/step - loss: 0.0393 - accuracy: 0.9871 - val_loss: 0.0987 - val_accuracy: 0.9789\n",
            "Epoch 37/50\n",
            "1875/1875 [==============================] - 4s 2ms/step - loss: 0.0383 - accuracy: 0.9870 - val_loss: 0.1020 - val_accuracy: 0.9784\n",
            "Epoch 38/50\n",
            "1875/1875 [==============================] - 4s 2ms/step - loss: 0.0374 - accuracy: 0.9867 - val_loss: 0.1050 - val_accuracy: 0.9801\n",
            "Epoch 39/50\n",
            "1875/1875 [==============================] - 4s 2ms/step - loss: 0.0358 - accuracy: 0.9878 - val_loss: 0.1045 - val_accuracy: 0.9800\n",
            "Epoch 40/50\n",
            "1875/1875 [==============================] - 4s 2ms/step - loss: 0.0358 - accuracy: 0.9879 - val_loss: 0.1008 - val_accuracy: 0.9796\n",
            "Epoch 41/50\n",
            "1875/1875 [==============================] - 4s 2ms/step - loss: 0.0387 - accuracy: 0.9869 - val_loss: 0.1096 - val_accuracy: 0.9790\n",
            "Epoch 42/50\n",
            "1875/1875 [==============================] - 4s 2ms/step - loss: 0.0364 - accuracy: 0.9876 - val_loss: 0.1025 - val_accuracy: 0.9810\n",
            "Epoch 43/50\n",
            "1875/1875 [==============================] - 4s 2ms/step - loss: 0.0363 - accuracy: 0.9876 - val_loss: 0.1043 - val_accuracy: 0.9789\n",
            "Epoch 44/50\n",
            "1875/1875 [==============================] - 4s 2ms/step - loss: 0.0355 - accuracy: 0.9879 - val_loss: 0.0992 - val_accuracy: 0.9807\n",
            "Epoch 45/50\n",
            "1875/1875 [==============================] - 4s 2ms/step - loss: 0.0359 - accuracy: 0.9879 - val_loss: 0.1100 - val_accuracy: 0.9798\n",
            "Epoch 46/50\n",
            "1875/1875 [==============================] - 4s 2ms/step - loss: 0.0347 - accuracy: 0.9882 - val_loss: 0.1015 - val_accuracy: 0.9802\n",
            "Epoch 47/50\n",
            "1875/1875 [==============================] - 4s 2ms/step - loss: 0.0342 - accuracy: 0.9881 - val_loss: 0.1107 - val_accuracy: 0.9800\n",
            "Epoch 48/50\n",
            "1875/1875 [==============================] - 4s 2ms/step - loss: 0.0338 - accuracy: 0.9888 - val_loss: 0.1083 - val_accuracy: 0.9798\n",
            "Epoch 49/50\n",
            "1875/1875 [==============================] - 4s 2ms/step - loss: 0.0341 - accuracy: 0.9884 - val_loss: 0.1021 - val_accuracy: 0.9795\n",
            "Epoch 50/50\n",
            "1875/1875 [==============================] - 4s 2ms/step - loss: 0.0314 - accuracy: 0.9893 - val_loss: 0.1099 - val_accuracy: 0.9800\n"
          ],
          "name": "stdout"
        }
      ]
    },
    {
      "cell_type": "markdown",
      "metadata": {
        "id": "BGSveBc2M0U8"
      },
      "source": [
        "Get info"
      ]
    },
    {
      "cell_type": "code",
      "metadata": {
        "colab": {
          "base_uri": "https://localhost:8080/"
        },
        "id": "d7-5kSlMJ9sM",
        "outputId": "51890ae3-feb7-4ea0-bd30-82f5dfa24cf0"
      },
      "source": [
        "x.history"
      ],
      "execution_count": 40,
      "outputs": [
        {
          "output_type": "execute_result",
          "data": {
            "text/plain": [
              "{'accuracy': [0.899733304977417,\n",
              "  0.947433352470398,\n",
              "  0.958050012588501,\n",
              "  0.9639666676521301,\n",
              "  0.9656166434288025,\n",
              "  0.9695666432380676,\n",
              "  0.9725666642189026,\n",
              "  0.9732666611671448,\n",
              "  0.9741833209991455,\n",
              "  0.9759833216667175,\n",
              "  0.9767666459083557,\n",
              "  0.9780166745185852,\n",
              "  0.9776999950408936,\n",
              "  0.9800333380699158,\n",
              "  0.9793499708175659,\n",
              "  0.9816499948501587,\n",
              "  0.9808833599090576,\n",
              "  0.9815166592597961,\n",
              "  0.9819333553314209,\n",
              "  0.9826499819755554,\n",
              "  0.9833999872207642,\n",
              "  0.9831500053405762,\n",
              "  0.9834166765213013,\n",
              "  0.9842666387557983,\n",
              "  0.9849500060081482,\n",
              "  0.9844666719436646,\n",
              "  0.9843833446502686,\n",
              "  0.9855833053588867,\n",
              "  0.9851999878883362,\n",
              "  0.98580002784729,\n",
              "  0.9856333136558533,\n",
              "  0.9856500029563904,\n",
              "  0.985966682434082,\n",
              "  0.9871500134468079,\n",
              "  0.9863666892051697,\n",
              "  0.9871000051498413,\n",
              "  0.9870499968528748,\n",
              "  0.9867166876792908,\n",
              "  0.9877833127975464,\n",
              "  0.9878833293914795,\n",
              "  0.9868833422660828,\n",
              "  0.9875500202178955,\n",
              "  0.9876333475112915,\n",
              "  0.98785001039505,\n",
              "  0.98785001039505,\n",
              "  0.988183319568634,\n",
              "  0.9880666732788086,\n",
              "  0.9887833595275879,\n",
              "  0.9884333610534668,\n",
              "  0.9893333315849304],\n",
              " 'loss': [0.34244248270988464,\n",
              "  0.17945721745491028,\n",
              "  0.14267300069332123,\n",
              "  0.12027498334646225,\n",
              "  0.11067748814821243,\n",
              "  0.09694738686084747,\n",
              "  0.08898845314979553,\n",
              "  0.08372778445482254,\n",
              "  0.07873988896608353,\n",
              "  0.07332045584917068,\n",
              "  0.07200615853071213,\n",
              "  0.06857817620038986,\n",
              "  0.06738793849945068,\n",
              "  0.06259550899267197,\n",
              "  0.06211090460419655,\n",
              "  0.05764107033610344,\n",
              "  0.057023607194423676,\n",
              "  0.054834358394145966,\n",
              "  0.053649622946977615,\n",
              "  0.05162232369184494,\n",
              "  0.05039739981293678,\n",
              "  0.0505489706993103,\n",
              "  0.049517784267663956,\n",
              "  0.04598873108625412,\n",
              "  0.04419201612472534,\n",
              "  0.045104291290044785,\n",
              "  0.04552416503429413,\n",
              "  0.04297327250242233,\n",
              "  0.04332037270069122,\n",
              "  0.04235720634460449,\n",
              "  0.04146923869848251,\n",
              "  0.04225686565041542,\n",
              "  0.04038799926638603,\n",
              "  0.03711409866809845,\n",
              "  0.04144803062081337,\n",
              "  0.039330173283815384,\n",
              "  0.03825772553682327,\n",
              "  0.037432994693517685,\n",
              "  0.03581220284104347,\n",
              "  0.03575557842850685,\n",
              "  0.03869875892996788,\n",
              "  0.036356981843709946,\n",
              "  0.036264292895793915,\n",
              "  0.03554029017686844,\n",
              "  0.03585903346538544,\n",
              "  0.034704457968473434,\n",
              "  0.03424796089529991,\n",
              "  0.03379720076918602,\n",
              "  0.03406873345375061,\n",
              "  0.031446490436792374],\n",
              " 'val_accuracy': [0.954200029373169,\n",
              "  0.9661999940872192,\n",
              "  0.9717000126838684,\n",
              "  0.974399983882904,\n",
              "  0.9768000245094299,\n",
              "  0.9781000018119812,\n",
              "  0.9771999716758728,\n",
              "  0.9771999716758728,\n",
              "  0.9775000214576721,\n",
              "  0.9769999980926514,\n",
              "  0.9783999919891357,\n",
              "  0.9781000018119812,\n",
              "  0.9785000085830688,\n",
              "  0.9772999882698059,\n",
              "  0.9790999889373779,\n",
              "  0.979200005531311,\n",
              "  0.9786999821662903,\n",
              "  0.9804999828338623,\n",
              "  0.9793999791145325,\n",
              "  0.9797999858856201,\n",
              "  0.9796000123023987,\n",
              "  0.979200005531311,\n",
              "  0.9794999957084656,\n",
              "  0.9786999821662903,\n",
              "  0.9803000092506409,\n",
              "  0.9797000288963318,\n",
              "  0.9793000221252441,\n",
              "  0.980400025844574,\n",
              "  0.9789000153541565,\n",
              "  0.9812999963760376,\n",
              "  0.9796000123023987,\n",
              "  0.9807000160217285,\n",
              "  0.9790999889373779,\n",
              "  0.9793000221252441,\n",
              "  0.9790999889373779,\n",
              "  0.9789000153541565,\n",
              "  0.9783999919891357,\n",
              "  0.9800999760627747,\n",
              "  0.9800000190734863,\n",
              "  0.9796000123023987,\n",
              "  0.9789999723434448,\n",
              "  0.9810000061988831,\n",
              "  0.9789000153541565,\n",
              "  0.9807000160217285,\n",
              "  0.9797999858856201,\n",
              "  0.9801999926567078,\n",
              "  0.9800000190734863,\n",
              "  0.9797999858856201,\n",
              "  0.9794999957084656,\n",
              "  0.9800000190734863],\n",
              " 'val_loss': [0.15337860584259033,\n",
              "  0.11359277367591858,\n",
              "  0.09276454895734787,\n",
              "  0.08717869222164154,\n",
              "  0.07931941747665405,\n",
              "  0.07469125092029572,\n",
              "  0.07387828081846237,\n",
              "  0.07317543774843216,\n",
              "  0.0753730982542038,\n",
              "  0.07446751743555069,\n",
              "  0.07290614396333694,\n",
              "  0.07555723935365677,\n",
              "  0.07744694501161575,\n",
              "  0.07840540260076523,\n",
              "  0.0751892551779747,\n",
              "  0.07487794011831284,\n",
              "  0.07874830812215805,\n",
              "  0.07891006767749786,\n",
              "  0.0825301855802536,\n",
              "  0.0805080235004425,\n",
              "  0.07950089126825333,\n",
              "  0.08466232568025589,\n",
              "  0.08727972954511642,\n",
              "  0.08813778311014175,\n",
              "  0.08634855598211288,\n",
              "  0.09017970412969589,\n",
              "  0.09363017231225967,\n",
              "  0.08284036815166473,\n",
              "  0.08995459228754044,\n",
              "  0.08519849181175232,\n",
              "  0.09562812745571136,\n",
              "  0.09283065050840378,\n",
              "  0.09793316572904587,\n",
              "  0.10220923274755478,\n",
              "  0.10053974390029907,\n",
              "  0.09869363158941269,\n",
              "  0.10201773047447205,\n",
              "  0.10495888441801071,\n",
              "  0.10445665568113327,\n",
              "  0.10084137320518494,\n",
              "  0.10960936546325684,\n",
              "  0.10250075906515121,\n",
              "  0.10429134219884872,\n",
              "  0.09915724396705627,\n",
              "  0.1100354865193367,\n",
              "  0.10149291157722473,\n",
              "  0.11066296696662903,\n",
              "  0.10832331329584122,\n",
              "  0.10210247337818146,\n",
              "  0.10994844883680344]}"
            ]
          },
          "metadata": {
            "tags": []
          },
          "execution_count": 40
        }
      ]
    },
    {
      "cell_type": "code",
      "metadata": {
        "id": "rBeXnRNTMQkP"
      },
      "source": [
        "acc = x.history['accuracy']\n",
        "val_acc = x.history['val_accuracy']\n",
        "loss = x.history['loss']\n",
        "val_loss = x.history['val_loss']"
      ],
      "execution_count": 41,
      "outputs": []
    },
    {
      "cell_type": "markdown",
      "metadata": {
        "id": "buZN710lNSSI"
      },
      "source": [
        "Plot graph"
      ]
    },
    {
      "cell_type": "code",
      "metadata": {
        "colab": {
          "base_uri": "https://localhost:8080/",
          "height": 282
        },
        "id": "XVrCOhyDMxt6",
        "outputId": "2b8c00a2-659a-4a19-f3d2-6a181f30fcbd"
      },
      "source": [
        "plt.plot(loss,label='loss')\n",
        "plt.plot(val_loss,label='val_loss')\n",
        "plt.legend()"
      ],
      "execution_count": 42,
      "outputs": [
        {
          "output_type": "execute_result",
          "data": {
            "text/plain": [
              "<matplotlib.legend.Legend at 0x7ff0ae673390>"
            ]
          },
          "metadata": {
            "tags": []
          },
          "execution_count": 42
        },
        {
          "output_type": "display_data",
          "data": {
            "image/png": "[encoded data removed]",
            "text/plain": [
              "<Figure size 432x288 with 1 Axes>"
            ]
          },
          "metadata": {
            "tags": [],
            "needs_background": "light"
          }
        }
      ]
    },
    {
      "cell_type": "code",
      "metadata": {
        "colab": {
          "base_uri": "https://localhost:8080/",
          "height": 282
        },
        "id": "FoWGwDCLNLWP",
        "outputId": "6af2861a-89be-41c7-f32e-8697e72a71f8"
      },
      "source": [
        "plt.plot(acc,label=\"acc\")\n",
        "plt.plot(val_acc,label='val_acc')\n",
        "plt.legend()"
      ],
      "execution_count": 43,
      "outputs": [
        {
          "output_type": "execute_result",
          "data": {
            "text/plain": [
              "<matplotlib.legend.Legend at 0x7ff0ae417550>"
            ]
          },
          "metadata": {
            "tags": []
          },
          "execution_count": 43
        },
        {
          "output_type": "display_data",
          "data": {
            "image/png": "[encoded data removed]",
            "text/plain": [
              "<Figure size 432x288 with 1 Axes>"
            ]
          },
          "metadata": {
            "tags": [],
            "needs_background": "light"
          }
        }
      ]
    },
    {
      "cell_type": "markdown",
      "metadata": {
        "id": "SAYn-kWCN18-"
      },
      "source": [
        "Evaluate model"
      ]
    },
    {
      "cell_type": "code",
      "metadata": {
        "colab": {
          "base_uri": "https://localhost:8080/"
        },
        "id": "NPUEPz0PQLRM",
        "outputId": "0e0c1bfe-37b8-471a-804e-0739962f6672"
      },
      "source": [
        "X_test.shape"
      ],
      "execution_count": 45,
      "outputs": [
        {
          "output_type": "execute_result",
          "data": {
            "text/plain": [
              "(10000, 28, 28)"
            ]
          },
          "metadata": {
            "tags": []
          },
          "execution_count": 45
        }
      ]
    },
    {
      "cell_type": "code",
      "metadata": {
        "colab": {
          "base_uri": "https://localhost:8080/"
        },
        "id": "A7_Np9JrNoL1",
        "outputId": "a129d0b1-2af1-4d2b-80fc-3d8a111ad32a"
      },
      "source": [
        "print(model.evaluate(X_test,y_test))"
      ],
      "execution_count": 44,
      "outputs": [
        {
          "output_type": "stream",
          "text": [
            "313/313 [==============================] - 1s 2ms/step - loss: 0.1099 - accuracy: 0.9800\n",
            "[0.10994844883680344, 0.9800000190734863]\n"
          ],
          "name": "stdout"
        }
      ]
    },
    {
      "cell_type": "markdown",
      "metadata": {
        "id": "bLxCVH5BQTBG"
      },
      "source": [
        "Plot confusion matrix"
      ]
    },
    {
      "cell_type": "code",
      "metadata": {
        "colab": {
          "base_uri": "https://localhost:8080/",
          "height": 496
        },
        "id": "U9_rbQIlN9db",
        "outputId": "b2981a0b-de16-4a72-a6bb-0a32f9a7d38f"
      },
      "source": [
        "from sklearn.metrics import confusion_matrix\n",
        "import numpy as np\n",
        "import itertools\n",
        "\n",
        "def plot_confusion_matrix(cm, classes,\n",
        "                          normalize=False,\n",
        "                          title='Confusion matrix',\n",
        "                          cmap=plt.cm.Blues):\n",
        "  \"\"\"\n",
        "  This function prints and plots the confusion matrix.\n",
        "  Normalization can be applied by setting `normalize=True`.\n",
        "  \"\"\"\n",
        "  if normalize:\n",
        "      cm = cm.astype('float') / cm.sum(axis=1)[:, np.newaxis]\n",
        "      print(\"Normalized confusion matrix\")\n",
        "  else:\n",
        "      print('Confusion matrix, without normalization')\n",
        "\n",
        "  print(cm)\n",
        "\n",
        "  plt.imshow(cm, interpolation='nearest', cmap=cmap)\n",
        "  plt.title(title)\n",
        "  plt.colorbar()\n",
        "  tick_marks = np.arange(len(classes))\n",
        "  plt.xticks(tick_marks, classes, rotation=45)\n",
        "  plt.yticks(tick_marks, classes)\n",
        "\n",
        "  fmt = '.2f' if normalize else 'd'\n",
        "  thresh = cm.max() / 2.\n",
        "  for i, j in itertools.product(range(cm.shape[0]), range(cm.shape[1])):\n",
        "      plt.text(j, i, format(cm[i, j], fmt),\n",
        "               horizontalalignment=\"center\",\n",
        "               color=\"white\" if cm[i, j] > thresh else \"black\")\n",
        "\n",
        "  plt.tight_layout()\n",
        "  plt.ylabel('True label')\n",
        "  plt.xlabel('Predicted label')\n",
        "  plt.show()\n",
        "\n",
        "\n",
        "p_test = model.predict(X_test).argmax(axis=1)\n",
        "cm = confusion_matrix(y_test, p_test)\n",
        "plot_confusion_matrix(cm, list(range(10)))\n"
      ],
      "execution_count": 47,
      "outputs": [
        {
          "output_type": "stream",
          "text": [
            "Confusion matrix, without normalization\n",
            "[[ 969    1    2    1    0    0    3    2    2    0]\n",
            " [   0 1126    3    1    0    1    2    1    1    0]\n",
            " [   2    2 1014    3    1    0    2    6    2    0]\n",
            " [   0    0    2  994    0    6    0    5    1    2]\n",
            " [   0    1    2    1  962    0    5    0    2    9]\n",
            " [   3    0    0   14    0  868    2    2    2    1]\n",
            " [   1    2    1    1    5    4  941    0    3    0]\n",
            " [   1    1   11    4    0    0    0 1006    0    5]\n",
            " [   3    1    3    6    4    5    2    6  941    3]\n",
            " [   1    4    0    7    7    3    0    6    2  979]]\n"
          ],
          "name": "stdout"
        },
        {
          "output_type": "display_data",
          "data": {
            "image/png": "[encoded data removed]",
            "text/plain": [
              "<Figure size 432x288 with 2 Axes>"
            ]
          },
          "metadata": {
            "tags": [],
            "needs_background": "light"
          }
        }
      ]
    },
    {
      "cell_type": "code",
      "metadata": {
        "colab": {
          "base_uri": "https://localhost:8080/",
          "height": 281
        },
        "id": "Q3SJEgWCRdJM",
        "outputId": "df87f92d-201d-4f50-ef9c-20064796d161"
      },
      "source": [
        "# Show some misclassified examples\n",
        "misclassified_idx = np.where(p_test != y_test)[0]\n",
        "i = np.random.choice(misclassified_idx)\n",
        "plt.imshow(X_test[i], cmap='gray')\n",
        "plt.title(\"True label: %s Predicted: %s\" % (y_test[i], p_test[i]));"
      ],
      "execution_count": 58,
      "outputs": [
        {
          "output_type": "display_data",
          "data": {
            "image/png": "[encoded data removed]",
            "text/plain": [
              "<Figure size 432x288 with 1 Axes>"
            ]
          },
          "metadata": {
            "tags": [],
            "needs_background": "light"
          }
        }
      ]
    },
    {
      "cell_type": "code",
      "metadata": {
        "id": "8EPs6hRcRpp2"
      },
      "source": [
        ""
      ],
      "execution_count": null,
      "outputs": []
    }
  ]
}