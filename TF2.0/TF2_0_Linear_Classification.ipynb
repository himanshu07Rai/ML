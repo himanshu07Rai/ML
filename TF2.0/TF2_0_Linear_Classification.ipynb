{
  "nbformat": 4,
  "nbformat_minor": 0,
  "metadata": {
    "colab": {
      "name": "TF2.0 Linear Classification.ipynb",
      "provenance": [],
      "collapsed_sections": []
    },
    "kernelspec": {
      "name": "python3",
      "display_name": "Python 3"
    },
    "accelerator": "GPU"
  },
  "cells": [
    {
      "cell_type": "code",
      "metadata": {
        "id": "DeNaBVyT4pn1",
        "colab": {
          "base_uri": "https://localhost:8080/"
        },
        "outputId": "877d0231-7102-4667-9504-eadad33a361c"
      },
      "source": [
        "# Install TensorFlow\n",
        "# !pip install -q tensorflow-gpu==2.0.0-beta1\n",
        "\n",
        "import tensorflow as tf\n",
        "print(tf.__version__)"
      ],
      "execution_count": 1,
      "outputs": [
        {
          "output_type": "stream",
          "text": [
            "2.5.0\n"
          ],
          "name": "stdout"
        }
      ]
    },
    {
      "cell_type": "code",
      "metadata": {
        "id": "EtMPQxpC4xD0"
      },
      "source": [
        "# Load in the data\n",
        "from sklearn.datasets import load_breast_cancer"
      ],
      "execution_count": 2,
      "outputs": []
    },
    {
      "cell_type": "code",
      "metadata": {
        "id": "pwJ9LvEE5B_z"
      },
      "source": [
        "# load the data\n",
        "data = load_breast_cancer()"
      ],
      "execution_count": 3,
      "outputs": []
    },
    {
      "cell_type": "code",
      "metadata": {
        "id": "wNkavJSj5EcV",
        "colab": {
          "base_uri": "https://localhost:8080/"
        },
        "outputId": "5f21ce0b-bff6-463c-fcc0-a9b86f6d6e3a"
      },
      "source": [
        "# check the type of 'data'\n",
        "type(data)"
      ],
      "execution_count": 4,
      "outputs": [
        {
          "output_type": "execute_result",
          "data": {
            "text/plain": [
              "sklearn.utils.Bunch"
            ]
          },
          "metadata": {
            "tags": []
          },
          "execution_count": 4
        }
      ]
    },
    {
      "cell_type": "code",
      "metadata": {
        "id": "OsWYmnYR5GQq",
        "colab": {
          "base_uri": "https://localhost:8080/"
        },
        "outputId": "efc04d72-7c75-461c-a9e6-21930d8ba00f"
      },
      "source": [
        "# note: it is a Bunch object\n",
        "# this basically acts like a dictionary where you can treat the keys like attributes\n",
        "data.keys()"
      ],
      "execution_count": 5,
      "outputs": [
        {
          "output_type": "execute_result",
          "data": {
            "text/plain": [
              "dict_keys(['data', 'target', 'target_names', 'DESCR', 'feature_names', 'filename'])"
            ]
          },
          "metadata": {
            "tags": []
          },
          "execution_count": 5
        }
      ]
    },
    {
      "cell_type": "code",
      "metadata": {
        "id": "HRYJw4hN5JXD",
        "colab": {
          "base_uri": "https://localhost:8080/"
        },
        "outputId": "175590cc-018e-4dac-9eac-75082c1ba5ab"
      },
      "source": [
        "# 'data' (the attribute) means the input data\n",
        "data.data.shape\n",
        "# it has 569 samples, 30 features"
      ],
      "execution_count": 6,
      "outputs": [
        {
          "output_type": "execute_result",
          "data": {
            "text/plain": [
              "(569, 30)"
            ]
          },
          "metadata": {
            "tags": []
          },
          "execution_count": 6
        }
      ]
    },
    {
      "cell_type": "code",
      "metadata": {
        "id": "G5OVVVge5L-h",
        "colab": {
          "base_uri": "https://localhost:8080/"
        },
        "outputId": "9adca7c7-0f02-4a64-bacf-0bfcf53c0061"
      },
      "source": [
        "# 'targets'\n",
        "data.target\n",
        "# note how the targets are just 0s and 1s\n",
        "# normally, when you have K targets, they are labeled 0..K-1"
      ],
      "execution_count": 7,
      "outputs": [
        {
          "output_type": "execute_result",
          "data": {
            "text/plain": [
              "array([0, 0, 0, 0, 0, 0, 0, 0, 0, 0, 0, 0, 0, 0, 0, 0, 0, 0, 0, 1, 1, 1,\n",
              "       0, 0, 0, 0, 0, 0, 0, 0, 0, 0, 0, 0, 0, 0, 0, 1, 0, 0, 0, 0, 0, 0,\n",
              "       0, 0, 1, 0, 1, 1, 1, 1, 1, 0, 0, 1, 0, 0, 1, 1, 1, 1, 0, 1, 0, 0,\n",
              "       1, 1, 1, 1, 0, 1, 0, 0, 1, 0, 1, 0, 0, 1, 1, 1, 0, 0, 1, 0, 0, 0,\n",
              "       1, 1, 1, 0, 1, 1, 0, 0, 1, 1, 1, 0, 0, 1, 1, 1, 1, 0, 1, 1, 0, 1,\n",
              "       1, 1, 1, 1, 1, 1, 1, 0, 0, 0, 1, 0, 0, 1, 1, 1, 0, 0, 1, 0, 1, 0,\n",
              "       0, 1, 0, 0, 1, 1, 0, 1, 1, 0, 1, 1, 1, 1, 0, 1, 1, 1, 1, 1, 1, 1,\n",
              "       1, 1, 0, 1, 1, 1, 1, 0, 0, 1, 0, 1, 1, 0, 0, 1, 1, 0, 0, 1, 1, 1,\n",
              "       1, 0, 1, 1, 0, 0, 0, 1, 0, 1, 0, 1, 1, 1, 0, 1, 1, 0, 0, 1, 0, 0,\n",
              "       0, 0, 1, 0, 0, 0, 1, 0, 1, 0, 1, 1, 0, 1, 0, 0, 0, 0, 1, 1, 0, 0,\n",
              "       1, 1, 1, 0, 1, 1, 1, 1, 1, 0, 0, 1, 1, 0, 1, 1, 0, 0, 1, 0, 1, 1,\n",
              "       1, 1, 0, 1, 1, 1, 1, 1, 0, 1, 0, 0, 0, 0, 0, 0, 0, 0, 0, 0, 0, 0,\n",
              "       0, 0, 1, 1, 1, 1, 1, 1, 0, 1, 0, 1, 1, 0, 1, 1, 0, 1, 0, 0, 1, 1,\n",
              "       1, 1, 1, 1, 1, 1, 1, 1, 1, 1, 1, 0, 1, 1, 0, 1, 0, 1, 1, 1, 1, 1,\n",
              "       1, 1, 1, 1, 1, 1, 1, 1, 1, 0, 1, 1, 1, 0, 1, 0, 1, 1, 1, 1, 0, 0,\n",
              "       0, 1, 1, 1, 1, 0, 1, 0, 1, 0, 1, 1, 1, 0, 1, 1, 1, 1, 1, 1, 1, 0,\n",
              "       0, 0, 1, 1, 1, 1, 1, 1, 1, 1, 1, 1, 1, 0, 0, 1, 0, 0, 0, 1, 0, 0,\n",
              "       1, 1, 1, 1, 1, 0, 1, 1, 1, 1, 1, 0, 1, 1, 1, 0, 1, 1, 0, 0, 1, 1,\n",
              "       1, 1, 1, 1, 0, 1, 1, 1, 1, 1, 1, 1, 0, 1, 1, 1, 1, 1, 0, 1, 1, 0,\n",
              "       1, 1, 1, 1, 1, 1, 1, 1, 1, 1, 1, 1, 0, 1, 0, 0, 1, 0, 1, 1, 1, 1,\n",
              "       1, 0, 1, 1, 0, 1, 0, 1, 1, 0, 1, 0, 1, 1, 1, 1, 1, 1, 1, 1, 0, 0,\n",
              "       1, 1, 1, 1, 1, 1, 0, 1, 1, 1, 1, 1, 1, 1, 1, 1, 1, 0, 1, 1, 1, 1,\n",
              "       1, 1, 1, 0, 1, 0, 1, 1, 0, 1, 1, 1, 1, 1, 0, 0, 1, 0, 1, 0, 1, 1,\n",
              "       1, 1, 1, 0, 1, 1, 0, 1, 0, 1, 0, 0, 1, 1, 1, 0, 1, 1, 1, 1, 1, 1,\n",
              "       1, 1, 1, 1, 1, 0, 1, 0, 0, 1, 1, 1, 1, 1, 1, 1, 1, 1, 1, 1, 1, 1,\n",
              "       1, 1, 1, 1, 1, 1, 1, 1, 1, 1, 1, 1, 0, 0, 0, 0, 0, 0, 1])"
            ]
          },
          "metadata": {
            "tags": []
          },
          "execution_count": 7
        }
      ]
    },
    {
      "cell_type": "code",
      "metadata": {
        "id": "YFXPFIiB5Osq",
        "colab": {
          "base_uri": "https://localhost:8080/"
        },
        "outputId": "a6063a87-dfee-4b5f-e4ae-56e54e826b9d"
      },
      "source": [
        "# their meaning is not lost\n",
        "data.target_names"
      ],
      "execution_count": 8,
      "outputs": [
        {
          "output_type": "execute_result",
          "data": {
            "text/plain": [
              "array(['malignant', 'benign'], dtype='<U9')"
            ]
          },
          "metadata": {
            "tags": []
          },
          "execution_count": 8
        }
      ]
    },
    {
      "cell_type": "code",
      "metadata": {
        "id": "hujO3u7j5Qm-",
        "colab": {
          "base_uri": "https://localhost:8080/"
        },
        "outputId": "d96dbc4b-2b6e-4428-e4a7-1a6a151d0322"
      },
      "source": [
        "# there are also 569 corresponding targets\n",
        "data.target.shape"
      ],
      "execution_count": 9,
      "outputs": [
        {
          "output_type": "execute_result",
          "data": {
            "text/plain": [
              "(569,)"
            ]
          },
          "metadata": {
            "tags": []
          },
          "execution_count": 9
        }
      ]
    },
    {
      "cell_type": "code",
      "metadata": {
        "id": "q3o3h2l95SJ0",
        "colab": {
          "base_uri": "https://localhost:8080/"
        },
        "outputId": "d2586e97-8e2e-470c-f1a4-24635f8125d4"
      },
      "source": [
        "# you can also determine the meaning of each feature\n",
        "data.feature_names"
      ],
      "execution_count": 10,
      "outputs": [
        {
          "output_type": "execute_result",
          "data": {
            "text/plain": [
              "array(['mean radius', 'mean texture', 'mean perimeter', 'mean area',\n",
              "       'mean smoothness', 'mean compactness', 'mean concavity',\n",
              "       'mean concave points', 'mean symmetry', 'mean fractal dimension',\n",
              "       'radius error', 'texture error', 'perimeter error', 'area error',\n",
              "       'smoothness error', 'compactness error', 'concavity error',\n",
              "       'concave points error', 'symmetry error',\n",
              "       'fractal dimension error', 'worst radius', 'worst texture',\n",
              "       'worst perimeter', 'worst area', 'worst smoothness',\n",
              "       'worst compactness', 'worst concavity', 'worst concave points',\n",
              "       'worst symmetry', 'worst fractal dimension'], dtype='<U23')"
            ]
          },
          "metadata": {
            "tags": []
          },
          "execution_count": 10
        }
      ]
    },
    {
      "cell_type": "code",
      "metadata": {
        "id": "__iUSucB5Tug"
      },
      "source": [
        "# normally we would put all of our imports at the top\n",
        "# but this lets us tell a story\n",
        "from sklearn.model_selection import train_test_split\n",
        "\n",
        "\n",
        "# split the data into train and test sets\n",
        "# this lets us simulate how our model will perform in the future\n",
        "X_train, X_test, y_train, y_test = train_test_split(data.data, data.target, test_size=0.33)\n",
        "N, D = X_train.shape"
      ],
      "execution_count": 11,
      "outputs": []
    },
    {
      "cell_type": "code",
      "metadata": {
        "id": "fS7cFmYl73H3"
      },
      "source": [
        "# Scale the data\n",
        "# you'll learn why scaling is needed in a later course\n",
        "from sklearn.preprocessing import StandardScaler\n",
        "\n",
        "scaler = StandardScaler()\n",
        "X_train = scaler.fit_transform(X_train)\n",
        "X_test = scaler.transform(X_test)"
      ],
      "execution_count": 12,
      "outputs": []
    },
    {
      "cell_type": "code",
      "metadata": {
        "id": "y-llhgXY5bmX",
        "colab": {
          "base_uri": "https://localhost:8080/"
        },
        "outputId": "342763c6-e9b3-4e85-a6b5-c94c0f11e997"
      },
      "source": [
        "# Now all the fun Tensorflow stuff\n",
        "# Build the model\n",
        "\n",
        "model = tf.keras.models.Sequential([\n",
        "  tf.keras.layers.Input(shape=(D,)),\n",
        "  tf.keras.layers.Dense(1, activation='sigmoid')\n",
        "])\n",
        "\n",
        "# Alternatively, you can do:\n",
        "# model = tf.keras.models.Sequential()\n",
        "# model.add(tf.keras.layers.Dense(1, input_shape=(D,), activation='sigmoid'))\n",
        "\n",
        "model.compile(optimizer='adam',\n",
        "              loss='binary_crossentropy',\n",
        "              metrics=['accuracy'])\n",
        "\n",
        "\n",
        "# Train the model\n",
        "r = model.fit(X_train, y_train, validation_data=(X_test, y_test), epochs=100)\n",
        "\n",
        "\n",
        "# Evaluate the model - evaluate() returns loss and accuracy\n",
        "print(\"Train score:\", model.evaluate(X_train, y_train))\n",
        "print(\"Test score:\", model.evaluate(X_test, y_test))"
      ],
      "execution_count": 13,
      "outputs": [
        {
          "output_type": "stream",
          "text": [
            "WARNING:tensorflow:Please add `keras.layers.InputLayer` instead of `keras.Input` to Sequential model. `keras.Input` is intended to be used by Functional model.\n",
            "Epoch 1/100\n",
            "12/12 [==============================] - 3s 14ms/step - loss: 0.4509 - accuracy: 0.8346 - val_loss: 0.5462 - val_accuracy: 0.7660\n",
            "Epoch 2/100\n",
            "12/12 [==============================] - 0s 5ms/step - loss: 0.4049 - accuracy: 0.8714 - val_loss: 0.4984 - val_accuracy: 0.7979\n",
            "Epoch 3/100\n",
            "12/12 [==============================] - 0s 5ms/step - loss: 0.3664 - accuracy: 0.9003 - val_loss: 0.4580 - val_accuracy: 0.8138\n",
            "Epoch 4/100\n",
            "12/12 [==============================] - 0s 4ms/step - loss: 0.3351 - accuracy: 0.9108 - val_loss: 0.4232 - val_accuracy: 0.8298\n",
            "Epoch 5/100\n",
            "12/12 [==============================] - 0s 4ms/step - loss: 0.3088 - accuracy: 0.9239 - val_loss: 0.3938 - val_accuracy: 0.8511\n",
            "Epoch 6/100\n",
            "12/12 [==============================] - 0s 4ms/step - loss: 0.2872 - accuracy: 0.9449 - val_loss: 0.3685 - val_accuracy: 0.8830\n",
            "Epoch 7/100\n",
            "12/12 [==============================] - 0s 4ms/step - loss: 0.2688 - accuracy: 0.9501 - val_loss: 0.3465 - val_accuracy: 0.8936\n",
            "Epoch 8/100\n",
            "12/12 [==============================] - 0s 4ms/step - loss: 0.2533 - accuracy: 0.9554 - val_loss: 0.3273 - val_accuracy: 0.8936\n",
            "Epoch 9/100\n",
            "12/12 [==============================] - 0s 4ms/step - loss: 0.2395 - accuracy: 0.9606 - val_loss: 0.3111 - val_accuracy: 0.9096\n",
            "Epoch 10/100\n",
            "12/12 [==============================] - 0s 4ms/step - loss: 0.2276 - accuracy: 0.9659 - val_loss: 0.2968 - val_accuracy: 0.9202\n",
            "Epoch 11/100\n",
            "12/12 [==============================] - 0s 4ms/step - loss: 0.2173 - accuracy: 0.9711 - val_loss: 0.2839 - val_accuracy: 0.9255\n",
            "Epoch 12/100\n",
            "12/12 [==============================] - 0s 4ms/step - loss: 0.2081 - accuracy: 0.9711 - val_loss: 0.2722 - val_accuracy: 0.9362\n",
            "Epoch 13/100\n",
            "12/12 [==============================] - 0s 4ms/step - loss: 0.1997 - accuracy: 0.9711 - val_loss: 0.2619 - val_accuracy: 0.9362\n",
            "Epoch 14/100\n",
            "12/12 [==============================] - 0s 4ms/step - loss: 0.1923 - accuracy: 0.9711 - val_loss: 0.2528 - val_accuracy: 0.9415\n",
            "Epoch 15/100\n",
            "12/12 [==============================] - 0s 4ms/step - loss: 0.1855 - accuracy: 0.9711 - val_loss: 0.2447 - val_accuracy: 0.9415\n",
            "Epoch 16/100\n",
            "12/12 [==============================] - 0s 4ms/step - loss: 0.1795 - accuracy: 0.9711 - val_loss: 0.2370 - val_accuracy: 0.9415\n",
            "Epoch 17/100\n",
            "12/12 [==============================] - 0s 5ms/step - loss: 0.1739 - accuracy: 0.9711 - val_loss: 0.2300 - val_accuracy: 0.9415\n",
            "Epoch 18/100\n",
            "12/12 [==============================] - 0s 4ms/step - loss: 0.1686 - accuracy: 0.9711 - val_loss: 0.2239 - val_accuracy: 0.9415\n",
            "Epoch 19/100\n",
            "12/12 [==============================] - 0s 4ms/step - loss: 0.1638 - accuracy: 0.9738 - val_loss: 0.2181 - val_accuracy: 0.9468\n",
            "Epoch 20/100\n",
            "12/12 [==============================] - 0s 5ms/step - loss: 0.1594 - accuracy: 0.9738 - val_loss: 0.2129 - val_accuracy: 0.9468\n",
            "Epoch 21/100\n",
            "12/12 [==============================] - 0s 4ms/step - loss: 0.1553 - accuracy: 0.9764 - val_loss: 0.2080 - val_accuracy: 0.9468\n",
            "Epoch 22/100\n",
            "12/12 [==============================] - 0s 4ms/step - loss: 0.1515 - accuracy: 0.9764 - val_loss: 0.2034 - val_accuracy: 0.9468\n",
            "Epoch 23/100\n",
            "12/12 [==============================] - 0s 4ms/step - loss: 0.1480 - accuracy: 0.9764 - val_loss: 0.1993 - val_accuracy: 0.9521\n",
            "Epoch 24/100\n",
            "12/12 [==============================] - 0s 4ms/step - loss: 0.1445 - accuracy: 0.9764 - val_loss: 0.1953 - val_accuracy: 0.9521\n",
            "Epoch 25/100\n",
            "12/12 [==============================] - 0s 4ms/step - loss: 0.1415 - accuracy: 0.9764 - val_loss: 0.1915 - val_accuracy: 0.9521\n",
            "Epoch 26/100\n",
            "12/12 [==============================] - 0s 4ms/step - loss: 0.1385 - accuracy: 0.9764 - val_loss: 0.1881 - val_accuracy: 0.9521\n",
            "Epoch 27/100\n",
            "12/12 [==============================] - 0s 4ms/step - loss: 0.1357 - accuracy: 0.9764 - val_loss: 0.1850 - val_accuracy: 0.9521\n",
            "Epoch 28/100\n",
            "12/12 [==============================] - 0s 4ms/step - loss: 0.1330 - accuracy: 0.9764 - val_loss: 0.1820 - val_accuracy: 0.9574\n",
            "Epoch 29/100\n",
            "12/12 [==============================] - 0s 4ms/step - loss: 0.1306 - accuracy: 0.9764 - val_loss: 0.1791 - val_accuracy: 0.9574\n",
            "Epoch 30/100\n",
            "12/12 [==============================] - 0s 4ms/step - loss: 0.1283 - accuracy: 0.9764 - val_loss: 0.1764 - val_accuracy: 0.9574\n",
            "Epoch 31/100\n",
            "12/12 [==============================] - 0s 4ms/step - loss: 0.1260 - accuracy: 0.9764 - val_loss: 0.1740 - val_accuracy: 0.9574\n",
            "Epoch 32/100\n",
            "12/12 [==============================] - 0s 4ms/step - loss: 0.1239 - accuracy: 0.9764 - val_loss: 0.1717 - val_accuracy: 0.9574\n",
            "Epoch 33/100\n",
            "12/12 [==============================] - 0s 4ms/step - loss: 0.1218 - accuracy: 0.9764 - val_loss: 0.1696 - val_accuracy: 0.9574\n",
            "Epoch 34/100\n",
            "12/12 [==============================] - 0s 4ms/step - loss: 0.1200 - accuracy: 0.9764 - val_loss: 0.1673 - val_accuracy: 0.9574\n",
            "Epoch 35/100\n",
            "12/12 [==============================] - 0s 4ms/step - loss: 0.1181 - accuracy: 0.9764 - val_loss: 0.1654 - val_accuracy: 0.9574\n",
            "Epoch 36/100\n",
            "12/12 [==============================] - 0s 4ms/step - loss: 0.1163 - accuracy: 0.9764 - val_loss: 0.1635 - val_accuracy: 0.9574\n",
            "Epoch 37/100\n",
            "12/12 [==============================] - 0s 4ms/step - loss: 0.1146 - accuracy: 0.9764 - val_loss: 0.1617 - val_accuracy: 0.9574\n",
            "Epoch 38/100\n",
            "12/12 [==============================] - 0s 4ms/step - loss: 0.1130 - accuracy: 0.9764 - val_loss: 0.1600 - val_accuracy: 0.9574\n",
            "Epoch 39/100\n",
            "12/12 [==============================] - 0s 5ms/step - loss: 0.1114 - accuracy: 0.9764 - val_loss: 0.1584 - val_accuracy: 0.9628\n",
            "Epoch 40/100\n",
            "12/12 [==============================] - 0s 4ms/step - loss: 0.1099 - accuracy: 0.9790 - val_loss: 0.1569 - val_accuracy: 0.9628\n",
            "Epoch 41/100\n",
            "12/12 [==============================] - 0s 4ms/step - loss: 0.1085 - accuracy: 0.9790 - val_loss: 0.1555 - val_accuracy: 0.9628\n",
            "Epoch 42/100\n",
            "12/12 [==============================] - 0s 4ms/step - loss: 0.1071 - accuracy: 0.9790 - val_loss: 0.1540 - val_accuracy: 0.9628\n",
            "Epoch 43/100\n",
            "12/12 [==============================] - 0s 4ms/step - loss: 0.1058 - accuracy: 0.9790 - val_loss: 0.1527 - val_accuracy: 0.9628\n",
            "Epoch 44/100\n",
            "12/12 [==============================] - 0s 4ms/step - loss: 0.1045 - accuracy: 0.9816 - val_loss: 0.1514 - val_accuracy: 0.9628\n",
            "Epoch 45/100\n",
            "12/12 [==============================] - 0s 4ms/step - loss: 0.1032 - accuracy: 0.9816 - val_loss: 0.1501 - val_accuracy: 0.9628\n",
            "Epoch 46/100\n",
            "12/12 [==============================] - 0s 4ms/step - loss: 0.1020 - accuracy: 0.9816 - val_loss: 0.1490 - val_accuracy: 0.9628\n",
            "Epoch 47/100\n",
            "12/12 [==============================] - 0s 5ms/step - loss: 0.1009 - accuracy: 0.9816 - val_loss: 0.1478 - val_accuracy: 0.9628\n",
            "Epoch 48/100\n",
            "12/12 [==============================] - 0s 4ms/step - loss: 0.0997 - accuracy: 0.9816 - val_loss: 0.1467 - val_accuracy: 0.9628\n",
            "Epoch 49/100\n",
            "12/12 [==============================] - 0s 4ms/step - loss: 0.0987 - accuracy: 0.9816 - val_loss: 0.1456 - val_accuracy: 0.9628\n",
            "Epoch 50/100\n",
            "12/12 [==============================] - 0s 4ms/step - loss: 0.0976 - accuracy: 0.9816 - val_loss: 0.1447 - val_accuracy: 0.9628\n",
            "Epoch 51/100\n",
            "12/12 [==============================] - 0s 4ms/step - loss: 0.0966 - accuracy: 0.9816 - val_loss: 0.1437 - val_accuracy: 0.9628\n",
            "Epoch 52/100\n",
            "12/12 [==============================] - 0s 4ms/step - loss: 0.0956 - accuracy: 0.9816 - val_loss: 0.1428 - val_accuracy: 0.9628\n",
            "Epoch 53/100\n",
            "12/12 [==============================] - 0s 4ms/step - loss: 0.0946 - accuracy: 0.9816 - val_loss: 0.1419 - val_accuracy: 0.9628\n",
            "Epoch 54/100\n",
            "12/12 [==============================] - 0s 4ms/step - loss: 0.0937 - accuracy: 0.9816 - val_loss: 0.1411 - val_accuracy: 0.9628\n",
            "Epoch 55/100\n",
            "12/12 [==============================] - 0s 4ms/step - loss: 0.0928 - accuracy: 0.9816 - val_loss: 0.1402 - val_accuracy: 0.9628\n",
            "Epoch 56/100\n",
            "12/12 [==============================] - 0s 6ms/step - loss: 0.0919 - accuracy: 0.9816 - val_loss: 0.1394 - val_accuracy: 0.9574\n",
            "Epoch 57/100\n",
            "12/12 [==============================] - 0s 6ms/step - loss: 0.0910 - accuracy: 0.9816 - val_loss: 0.1387 - val_accuracy: 0.9574\n",
            "Epoch 58/100\n",
            "12/12 [==============================] - 0s 4ms/step - loss: 0.0902 - accuracy: 0.9816 - val_loss: 0.1378 - val_accuracy: 0.9574\n",
            "Epoch 59/100\n",
            "12/12 [==============================] - 0s 4ms/step - loss: 0.0894 - accuracy: 0.9816 - val_loss: 0.1372 - val_accuracy: 0.9574\n",
            "Epoch 60/100\n",
            "12/12 [==============================] - 0s 5ms/step - loss: 0.0886 - accuracy: 0.9816 - val_loss: 0.1365 - val_accuracy: 0.9574\n",
            "Epoch 61/100\n",
            "12/12 [==============================] - 0s 4ms/step - loss: 0.0878 - accuracy: 0.9816 - val_loss: 0.1357 - val_accuracy: 0.9628\n",
            "Epoch 62/100\n",
            "12/12 [==============================] - 0s 5ms/step - loss: 0.0871 - accuracy: 0.9816 - val_loss: 0.1351 - val_accuracy: 0.9628\n",
            "Epoch 63/100\n",
            "12/12 [==============================] - 0s 4ms/step - loss: 0.0863 - accuracy: 0.9816 - val_loss: 0.1344 - val_accuracy: 0.9628\n",
            "Epoch 64/100\n",
            "12/12 [==============================] - 0s 4ms/step - loss: 0.0856 - accuracy: 0.9816 - val_loss: 0.1339 - val_accuracy: 0.9628\n",
            "Epoch 65/100\n",
            "12/12 [==============================] - 0s 4ms/step - loss: 0.0849 - accuracy: 0.9816 - val_loss: 0.1333 - val_accuracy: 0.9628\n",
            "Epoch 66/100\n",
            "12/12 [==============================] - 0s 4ms/step - loss: 0.0842 - accuracy: 0.9816 - val_loss: 0.1327 - val_accuracy: 0.9628\n",
            "Epoch 67/100\n",
            "12/12 [==============================] - 0s 4ms/step - loss: 0.0836 - accuracy: 0.9843 - val_loss: 0.1322 - val_accuracy: 0.9628\n",
            "Epoch 68/100\n",
            "12/12 [==============================] - 0s 4ms/step - loss: 0.0829 - accuracy: 0.9843 - val_loss: 0.1317 - val_accuracy: 0.9628\n",
            "Epoch 69/100\n",
            "12/12 [==============================] - 0s 4ms/step - loss: 0.0823 - accuracy: 0.9843 - val_loss: 0.1312 - val_accuracy: 0.9628\n",
            "Epoch 70/100\n",
            "12/12 [==============================] - 0s 4ms/step - loss: 0.0816 - accuracy: 0.9843 - val_loss: 0.1306 - val_accuracy: 0.9628\n",
            "Epoch 71/100\n",
            "12/12 [==============================] - 0s 5ms/step - loss: 0.0810 - accuracy: 0.9843 - val_loss: 0.1300 - val_accuracy: 0.9628\n",
            "Epoch 72/100\n",
            "12/12 [==============================] - 0s 4ms/step - loss: 0.0804 - accuracy: 0.9843 - val_loss: 0.1295 - val_accuracy: 0.9628\n",
            "Epoch 73/100\n",
            "12/12 [==============================] - 0s 4ms/step - loss: 0.0799 - accuracy: 0.9843 - val_loss: 0.1291 - val_accuracy: 0.9628\n",
            "Epoch 74/100\n",
            "12/12 [==============================] - 0s 4ms/step - loss: 0.0793 - accuracy: 0.9843 - val_loss: 0.1287 - val_accuracy: 0.9628\n",
            "Epoch 75/100\n",
            "12/12 [==============================] - 0s 4ms/step - loss: 0.0787 - accuracy: 0.9843 - val_loss: 0.1283 - val_accuracy: 0.9628\n",
            "Epoch 76/100\n",
            "12/12 [==============================] - 0s 4ms/step - loss: 0.0782 - accuracy: 0.9843 - val_loss: 0.1277 - val_accuracy: 0.9628\n",
            "Epoch 77/100\n",
            "12/12 [==============================] - 0s 5ms/step - loss: 0.0776 - accuracy: 0.9843 - val_loss: 0.1273 - val_accuracy: 0.9628\n",
            "Epoch 78/100\n",
            "12/12 [==============================] - 0s 5ms/step - loss: 0.0771 - accuracy: 0.9843 - val_loss: 0.1269 - val_accuracy: 0.9628\n",
            "Epoch 79/100\n",
            "12/12 [==============================] - 0s 4ms/step - loss: 0.0766 - accuracy: 0.9843 - val_loss: 0.1266 - val_accuracy: 0.9628\n",
            "Epoch 80/100\n",
            "12/12 [==============================] - 0s 4ms/step - loss: 0.0761 - accuracy: 0.9843 - val_loss: 0.1262 - val_accuracy: 0.9628\n",
            "Epoch 81/100\n",
            "12/12 [==============================] - 0s 4ms/step - loss: 0.0755 - accuracy: 0.9843 - val_loss: 0.1258 - val_accuracy: 0.9628\n",
            "Epoch 82/100\n",
            "12/12 [==============================] - 0s 4ms/step - loss: 0.0750 - accuracy: 0.9843 - val_loss: 0.1254 - val_accuracy: 0.9628\n",
            "Epoch 83/100\n",
            "12/12 [==============================] - 0s 4ms/step - loss: 0.0746 - accuracy: 0.9843 - val_loss: 0.1251 - val_accuracy: 0.9628\n",
            "Epoch 84/100\n",
            "12/12 [==============================] - 0s 4ms/step - loss: 0.0741 - accuracy: 0.9843 - val_loss: 0.1247 - val_accuracy: 0.9628\n",
            "Epoch 85/100\n",
            "12/12 [==============================] - 0s 4ms/step - loss: 0.0736 - accuracy: 0.9843 - val_loss: 0.1244 - val_accuracy: 0.9628\n",
            "Epoch 86/100\n",
            "12/12 [==============================] - 0s 4ms/step - loss: 0.0732 - accuracy: 0.9843 - val_loss: 0.1241 - val_accuracy: 0.9628\n",
            "Epoch 87/100\n",
            "12/12 [==============================] - 0s 4ms/step - loss: 0.0727 - accuracy: 0.9843 - val_loss: 0.1238 - val_accuracy: 0.9628\n",
            "Epoch 88/100\n",
            "12/12 [==============================] - 0s 4ms/step - loss: 0.0723 - accuracy: 0.9843 - val_loss: 0.1234 - val_accuracy: 0.9628\n",
            "Epoch 89/100\n",
            "12/12 [==============================] - 0s 4ms/step - loss: 0.0718 - accuracy: 0.9843 - val_loss: 0.1231 - val_accuracy: 0.9628\n",
            "Epoch 90/100\n",
            "12/12 [==============================] - 0s 4ms/step - loss: 0.0714 - accuracy: 0.9843 - val_loss: 0.1228 - val_accuracy: 0.9628\n",
            "Epoch 91/100\n",
            "12/12 [==============================] - 0s 4ms/step - loss: 0.0710 - accuracy: 0.9843 - val_loss: 0.1225 - val_accuracy: 0.9628\n",
            "Epoch 92/100\n",
            "12/12 [==============================] - 0s 4ms/step - loss: 0.0706 - accuracy: 0.9843 - val_loss: 0.1222 - val_accuracy: 0.9628\n",
            "Epoch 93/100\n",
            "12/12 [==============================] - 0s 4ms/step - loss: 0.0702 - accuracy: 0.9843 - val_loss: 0.1219 - val_accuracy: 0.9628\n",
            "Epoch 94/100\n",
            "12/12 [==============================] - 0s 4ms/step - loss: 0.0698 - accuracy: 0.9843 - val_loss: 0.1216 - val_accuracy: 0.9628\n",
            "Epoch 95/100\n",
            "12/12 [==============================] - 0s 5ms/step - loss: 0.0694 - accuracy: 0.9843 - val_loss: 0.1213 - val_accuracy: 0.9628\n",
            "Epoch 96/100\n",
            "12/12 [==============================] - 0s 4ms/step - loss: 0.0690 - accuracy: 0.9843 - val_loss: 0.1212 - val_accuracy: 0.9628\n",
            "Epoch 97/100\n",
            "12/12 [==============================] - 0s 4ms/step - loss: 0.0686 - accuracy: 0.9843 - val_loss: 0.1209 - val_accuracy: 0.9628\n",
            "Epoch 98/100\n",
            "12/12 [==============================] - 0s 4ms/step - loss: 0.0682 - accuracy: 0.9843 - val_loss: 0.1206 - val_accuracy: 0.9628\n",
            "Epoch 99/100\n",
            "12/12 [==============================] - 0s 4ms/step - loss: 0.0679 - accuracy: 0.9843 - val_loss: 0.1204 - val_accuracy: 0.9628\n",
            "Epoch 100/100\n",
            "12/12 [==============================] - 0s 4ms/step - loss: 0.0675 - accuracy: 0.9816 - val_loss: 0.1202 - val_accuracy: 0.9681\n",
            "12/12 [==============================] - 0s 2ms/step - loss: 0.0673 - accuracy: 0.9843\n",
            "Train score: [0.06726235151290894, 0.9842519760131836]\n",
            "6/6 [==============================] - 0s 2ms/step - loss: 0.1202 - accuracy: 0.9681\n",
            "Test score: [0.12020178139209747, 0.9680851101875305]\n"
          ],
          "name": "stdout"
        }
      ]
    },
    {
      "cell_type": "code",
      "metadata": {
        "id": "W0fK5PQc8aJ_",
        "colab": {
          "base_uri": "https://localhost:8080/",
          "height": 282
        },
        "outputId": "51590e07-b191-4d96-ebe5-e4746f385d54"
      },
      "source": [
        "# Plot what's returned by model.fit()\n",
        "import matplotlib.pyplot as plt\n",
        "plt.plot(r.history['loss'], label='loss')\n",
        "plt.plot(r.history['val_loss'], label='val_loss')\n",
        "plt.legend()"
      ],
      "execution_count": 14,
      "outputs": [
        {
          "output_type": "execute_result",
          "data": {
            "text/plain": [
              "<matplotlib.legend.Legend at 0x7f2990e72d50>"
            ]
          },
          "metadata": {
            "tags": []
          },
          "execution_count": 14
        },
        {
          "output_type": "display_data",
          "data": {
            "image/png": "[encoded data removed]",
            "text/plain": [
              "<Figure size 432x288 with 1 Axes>"
            ]
          },
          "metadata": {
            "tags": [],
            "needs_background": "light"
          }
        }
      ]
    },
    {
      "cell_type": "code",
      "metadata": {
        "id": "VBAA2UY28vJN",
        "colab": {
          "base_uri": "https://localhost:8080/",
          "height": 282
        },
        "outputId": "8ebd8216-58ca-424c-8663-b4e41a93281a"
      },
      "source": [
        "# Plot the accuracy too\n",
        "plt.plot(r.history['accuracy'], label='acc')\n",
        "plt.plot(r.history['val_accuracy'], label='val_acc')\n",
        "plt.legend()"
      ],
      "execution_count": 15,
      "outputs": [
        {
          "output_type": "execute_result",
          "data": {
            "text/plain": [
              "<matplotlib.legend.Legend at 0x7f2990e01c90>"
            ]
          },
          "metadata": {
            "tags": []
          },
          "execution_count": 15
        },
        {
          "output_type": "display_data",
          "data": {
            "image/png": "[encoded data removed]",
            "text/plain": [
              "<Figure size 432x288 with 1 Axes>"
            ]
          },
          "metadata": {
            "tags": [],
            "needs_background": "light"
          }
        }
      ]
    },
    {
      "cell_type": "markdown",
      "metadata": {
        "id": "GrZnHBI8NH-u"
      },
      "source": [
        "# Part 2: Making Predictions\n",
        "\n",
        "This goes with the lecture \"Making Predictions\""
      ]
    },
    {
      "cell_type": "code",
      "metadata": {
        "id": "Ss1LJwIVKREf",
        "colab": {
          "base_uri": "https://localhost:8080/"
        },
        "outputId": "4ec87d1b-ab54-4663-94f8-01c9489de109"
      },
      "source": [
        "# Make predictions\n",
        "P = model.predict(X_test)\n",
        "print(P) # they are outputs of the sigmoid, interpreted as probabilities p(y = 1 | x)"
      ],
      "execution_count": 16,
      "outputs": [
        {
          "output_type": "stream",
          "text": [
            "[[1.77514497e-02]\n",
            " [9.87241626e-01]\n",
            " [5.44415295e-01]\n",
            " [4.53398284e-03]\n",
            " [3.27544956e-04]\n",
            " [9.63745236e-01]\n",
            " [9.84724820e-01]\n",
            " [1.09542962e-02]\n",
            " [4.16991502e-01]\n",
            " [7.51100242e-01]\n",
            " [3.95555824e-01]\n",
            " [9.65456605e-01]\n",
            " [9.91254389e-01]\n",
            " [9.73998606e-01]\n",
            " [9.43034410e-01]\n",
            " [9.81822729e-01]\n",
            " [2.81614419e-02]\n",
            " [9.90348816e-01]\n",
            " [9.92169797e-01]\n",
            " [8.91515136e-01]\n",
            " [9.91172135e-01]\n",
            " [9.83424008e-01]\n",
            " [9.92709756e-01]\n",
            " [1.77668664e-03]\n",
            " [1.11492481e-02]\n",
            " [9.64130342e-01]\n",
            " [4.73074764e-02]\n",
            " [2.94557422e-01]\n",
            " [8.12171221e-01]\n",
            " [9.71896529e-01]\n",
            " [8.64324868e-01]\n",
            " [9.79500413e-01]\n",
            " [9.96779978e-01]\n",
            " [4.99113828e-01]\n",
            " [8.06505850e-04]\n",
            " [4.93842363e-03]\n",
            " [5.39633743e-02]\n",
            " [2.25865073e-03]\n",
            " [5.87708550e-03]\n",
            " [9.92798686e-01]\n",
            " [9.76877153e-01]\n",
            " [4.52929020e-01]\n",
            " [9.99079704e-01]\n",
            " [9.90387142e-01]\n",
            " [9.97862279e-01]\n",
            " [9.72779453e-01]\n",
            " [9.53177273e-01]\n",
            " [6.25173330e-01]\n",
            " [1.00818306e-01]\n",
            " [9.91760731e-01]\n",
            " [9.88655448e-01]\n",
            " [9.91344690e-01]\n",
            " [1.11272260e-04]\n",
            " [9.99577820e-01]\n",
            " [9.89204884e-01]\n",
            " [9.97308135e-01]\n",
            " [9.99772131e-01]\n",
            " [9.72254038e-01]\n",
            " [9.00181532e-01]\n",
            " [2.13119421e-07]\n",
            " [9.95528400e-01]\n",
            " [9.54761088e-01]\n",
            " [9.90028322e-01]\n",
            " [7.12037921e-01]\n",
            " [9.61365938e-01]\n",
            " [9.99387503e-01]\n",
            " [9.76704895e-01]\n",
            " [2.86437515e-02]\n",
            " [9.96882915e-01]\n",
            " [9.92075205e-01]\n",
            " [9.85041082e-01]\n",
            " [9.56189573e-01]\n",
            " [8.69974867e-02]\n",
            " [9.94985580e-01]\n",
            " [9.98018384e-01]\n",
            " [9.99714315e-01]\n",
            " [1.92251208e-03]\n",
            " [9.99746382e-01]\n",
            " [9.99997020e-01]\n",
            " [9.87321377e-01]\n",
            " [9.97481048e-01]\n",
            " [9.44476843e-01]\n",
            " [9.99741137e-01]\n",
            " [2.41953810e-03]\n",
            " [4.87462968e-01]\n",
            " [1.33538708e-06]\n",
            " [9.53576505e-01]\n",
            " [8.35797369e-01]\n",
            " [9.89762008e-01]\n",
            " [1.60133198e-01]\n",
            " [2.64118193e-04]\n",
            " [1.29370600e-01]\n",
            " [9.98491883e-01]\n",
            " [9.99737680e-01]\n",
            " [6.09085902e-08]\n",
            " [9.93529618e-01]\n",
            " [3.13912034e-01]\n",
            " [9.68604922e-01]\n",
            " [9.96745467e-01]\n",
            " [6.21889234e-01]\n",
            " [9.87167537e-01]\n",
            " [9.95521069e-01]\n",
            " [9.69055235e-01]\n",
            " [9.96710896e-01]\n",
            " [9.97592747e-01]\n",
            " [9.95554626e-01]\n",
            " [9.91610825e-01]\n",
            " [9.86052275e-01]\n",
            " [9.89816904e-01]\n",
            " [9.99782026e-01]\n",
            " [9.81259167e-01]\n",
            " [1.28587848e-03]\n",
            " [2.06346557e-01]\n",
            " [7.28892744e-01]\n",
            " [9.94341493e-01]\n",
            " [3.03485170e-02]\n",
            " [1.33314922e-01]\n",
            " [3.30876137e-05]\n",
            " [9.91494656e-01]\n",
            " [2.84170151e-01]\n",
            " [3.09350733e-02]\n",
            " [6.78185956e-04]\n",
            " [1.17993906e-01]\n",
            " [9.89093423e-01]\n",
            " [4.20433527e-04]\n",
            " [9.23031688e-01]\n",
            " [9.64624822e-01]\n",
            " [9.66293335e-01]\n",
            " [9.97456491e-01]\n",
            " [1.27692683e-05]\n",
            " [1.90961715e-02]\n",
            " [9.82941806e-01]\n",
            " [8.62530828e-01]\n",
            " [7.06851840e-01]\n",
            " [8.63067448e-01]\n",
            " [2.76658446e-01]\n",
            " [4.72592533e-01]\n",
            " [9.99966621e-01]\n",
            " [1.08753733e-01]\n",
            " [6.67432230e-03]\n",
            " [6.31800140e-05]\n",
            " [9.46357667e-01]\n",
            " [9.18987691e-01]\n",
            " [4.06880918e-06]\n",
            " [8.62518728e-01]\n",
            " [9.97797012e-01]\n",
            " [9.99970436e-01]\n",
            " [3.91429523e-07]\n",
            " [8.21044445e-01]\n",
            " [9.92140591e-01]\n",
            " [9.98392880e-01]\n",
            " [9.70109642e-01]\n",
            " [7.90674090e-01]\n",
            " [1.45348697e-03]\n",
            " [1.32042542e-03]\n",
            " [9.85957682e-01]\n",
            " [2.12048428e-04]\n",
            " [3.70880659e-03]\n",
            " [9.57753420e-01]\n",
            " [9.92260873e-01]\n",
            " [9.67176135e-08]\n",
            " [1.02431208e-01]\n",
            " [9.53763425e-01]\n",
            " [2.65087970e-02]\n",
            " [9.60025430e-01]\n",
            " [8.54110837e-01]\n",
            " [9.99277294e-01]\n",
            " [5.36762893e-01]\n",
            " [9.13461149e-01]\n",
            " [5.58364034e-01]\n",
            " [9.87616599e-01]\n",
            " [1.17515938e-05]\n",
            " [9.98169661e-01]\n",
            " [3.74865726e-06]\n",
            " [7.62274325e-01]\n",
            " [5.63934028e-01]\n",
            " [9.98491764e-01]\n",
            " [9.89084542e-01]\n",
            " [7.48409005e-03]\n",
            " [9.89744365e-01]\n",
            " [8.39906633e-01]\n",
            " [9.96379077e-01]\n",
            " [9.85139072e-01]\n",
            " [9.99625683e-01]\n",
            " [9.98802066e-01]\n",
            " [9.98787344e-01]\n",
            " [1.84646714e-02]\n",
            " [9.87132788e-01]]\n"
          ],
          "name": "stdout"
        }
      ]
    },
    {
      "cell_type": "code",
      "metadata": {
        "id": "Tv0cN7J6KoVu",
        "colab": {
          "base_uri": "https://localhost:8080/"
        },
        "outputId": "29d66e1c-8cef-4358-d4eb-60f68ff42371"
      },
      "source": [
        "# Round to get the actual predictions\n",
        "# Note: has to be flattened since the targets are size (N,) while the predictions are size (N,1)\n",
        "import numpy as np\n",
        "P = np.round(P).flatten()\n",
        "print(P)"
      ],
      "execution_count": 17,
      "outputs": [
        {
          "output_type": "stream",
          "text": [
            "[0. 1. 1. 0. 0. 1. 1. 0. 0. 1. 0. 1. 1. 1. 1. 1. 0. 1. 1. 1. 1. 1. 1. 0.\n",
            " 0. 1. 0. 0. 1. 1. 1. 1. 1. 0. 0. 0. 0. 0. 0. 1. 1. 0. 1. 1. 1. 1. 1. 1.\n",
            " 0. 1. 1. 1. 0. 1. 1. 1. 1. 1. 1. 0. 1. 1. 1. 1. 1. 1. 1. 0. 1. 1. 1. 1.\n",
            " 0. 1. 1. 1. 0. 1. 1. 1. 1. 1. 1. 0. 0. 0. 1. 1. 1. 0. 0. 0. 1. 1. 0. 1.\n",
            " 0. 1. 1. 1. 1. 1. 1. 1. 1. 1. 1. 1. 1. 1. 1. 0. 0. 1. 1. 0. 0. 0. 1. 0.\n",
            " 0. 0. 0. 1. 0. 1. 1. 1. 1. 0. 0. 1. 1. 1. 1. 0. 0. 1. 0. 0. 0. 1. 1. 0.\n",
            " 1. 1. 1. 0. 1. 1. 1. 1. 1. 0. 0. 1. 0. 0. 1. 1. 0. 0. 1. 0. 1. 1. 1. 1.\n",
            " 1. 1. 1. 0. 1. 0. 1. 1. 1. 1. 0. 1. 1. 1. 1. 1. 1. 1. 0. 1.]\n"
          ],
          "name": "stdout"
        }
      ]
    },
    {
      "cell_type": "code",
      "metadata": {
        "id": "yJU09XkmK4nQ",
        "colab": {
          "base_uri": "https://localhost:8080/"
        },
        "outputId": "b3266356-c075-4a1a-f41a-d53bec95e2c5"
      },
      "source": [
        "# Calculate the accuracy, compare it to evaluate() output\n",
        "print(\"Manually calculated accuracy:\", np.mean(P == y_test))\n",
        "print(\"Evaluate output:\", model.evaluate(X_test, y_test))"
      ],
      "execution_count": 18,
      "outputs": [
        {
          "output_type": "stream",
          "text": [
            "Manually calculated accuracy: 0.9680851063829787\n",
            "6/6 [==============================] - 0s 2ms/step - loss: 0.1202 - accuracy: 0.9681\n",
            "Evaluate output: [0.12020178139209747, 0.9680851101875305]\n"
          ],
          "name": "stdout"
        }
      ]
    },
    {
      "cell_type": "markdown",
      "metadata": {
        "id": "iogYs0uGNS4l"
      },
      "source": [
        "# Part 3: Saving and Loading a Model\n",
        "\n",
        "This goes with the lecture \"Saving and Loading a Model\""
      ]
    },
    {
      "cell_type": "code",
      "metadata": {
        "id": "L1uHxJ2SNXan"
      },
      "source": [
        "# Let's now save our model to a file\n",
        "model.save('linearclassifier.h5')"
      ],
      "execution_count": 19,
      "outputs": []
    },
    {
      "cell_type": "code",
      "metadata": {
        "id": "F6PHmjb0OFBf",
        "colab": {
          "base_uri": "https://localhost:8080/"
        },
        "outputId": "27640696-9a63-4520-a25d-a0b3f743e218"
      },
      "source": [
        "# Check that the model file exists\n",
        "!ls -lh "
      ],
      "execution_count": 20,
      "outputs": [
        {
          "output_type": "stream",
          "text": [
            "total 24K\n",
            "-rw-r--r-- 1 root root  19K Jul 10 10:09 linearclassifier.h5\n",
            "drwxr-xr-x 1 root root 4.0K Jul  1 13:42 sample_data\n"
          ],
          "name": "stdout"
        }
      ]
    },
    {
      "cell_type": "code",
      "metadata": {
        "id": "FgFBrBveNoOR",
        "colab": {
          "base_uri": "https://localhost:8080/"
        },
        "outputId": "bae12de0-5448-4859-c2df-fa4ca5fe6deb"
      },
      "source": [
        "# Let's load the model and confirm that it still works\n",
        "# Note: there is a bug in Keras where load/save only works if you DON'T use the Input() layer explicitly\n",
        "# So, make sure you define the model with ONLY Dense(1, input_shape=(D,))\n",
        "# At least, until the bug is fixed\n",
        "# https://github.com/keras-team/keras/issues/10417\n",
        "model = tf.keras.models.load_model('linearclassifier.h5')\n",
        "print(model.layers)\n",
        "model.evaluate(X_test, y_test)"
      ],
      "execution_count": 21,
      "outputs": [
        {
          "output_type": "stream",
          "text": [
            "[<tensorflow.python.keras.layers.core.Dense object at 0x7f29908c71d0>]\n",
            "6/6 [==============================] - 0s 4ms/step - loss: 0.1202 - accuracy: 0.9681\n"
          ],
          "name": "stdout"
        },
        {
          "output_type": "execute_result",
          "data": {
            "text/plain": [
              "[0.12020178139209747, 0.9680851101875305]"
            ]
          },
          "metadata": {
            "tags": []
          },
          "execution_count": 21
        }
      ]
    },
    {
      "cell_type": "code",
      "metadata": {
        "id": "_8rGQI-Rpo2T",
        "colab": {
          "base_uri": "https://localhost:8080/",
          "height": 17
        },
        "outputId": "2245bdbf-97cc-4371-d35e-2b9f70e34b17"
      },
      "source": [
        "\n",
        "# Download the file \n",
        "from google.colab import files\n",
        "files.download('linearclassifier.h5')"
      ],
      "execution_count": 22,
      "outputs": [
        {
          "output_type": "display_data",
          "data": {
            "application/javascript": [
              "\n",
              "    async function download(id, filename, size) {\n",
              "      if (!google.colab.kernel.accessAllowed) {\n",
              "        return;\n",
              "      }\n",
              "      const div = document.createElement('div');\n",
              "      const label = document.createElement('label');\n",
              "      label.textContent = `Downloading \"${filename}\": `;\n",
              "      div.appendChild(label);\n",
              "      const progress = document.createElement('progress');\n",
              "      progress.max = size;\n",
              "      div.appendChild(progress);\n",
              "      document.body.appendChild(div);\n",
              "\n",
              "      const buffers = [];\n",
              "      let downloaded = 0;\n",
              "\n",
              "      const channel = await google.colab.kernel.comms.open(id);\n",
              "      // Send a message to notify the kernel that we're ready.\n",
              "      channel.send({})\n",
              "\n",
              "      for await (const message of channel.messages) {\n",
              "        // Send a message to notify the kernel that we're ready.\n",
              "        channel.send({})\n",
              "        if (message.buffers) {\n",
              "          for (const buffer of message.buffers) {\n",
              "            buffers.push(buffer);\n",
              "            downloaded += buffer.byteLength;\n",
              "            progress.value = downloaded;\n",
              "          }\n",
              "        }\n",
              "      }\n",
              "      const blob = new Blob(buffers, {type: 'application/binary'});\n",
              "      const a = document.createElement('a');\n",
              "      a.href = window.URL.createObjectURL(blob);\n",
              "      a.download = filename;\n",
              "      div.appendChild(a);\n",
              "      a.click();\n",
              "      div.remove();\n",
              "    }\n",
              "  "
            ],
            "text/plain": [
              "<IPython.core.display.Javascript object>"
            ]
          },
          "metadata": {
            "tags": []
          }
        },
        {
          "output_type": "display_data",
          "data": {
            "application/javascript": [
              "download(\"download_ab0b5154-dfaf-4f3b-a986-10c84a9c855d\", \"linearclassifier.h5\", 18480)"
            ],
            "text/plain": [
              "<IPython.core.display.Javascript object>"
            ]
          },
          "metadata": {
            "tags": []
          }
        }
      ]
    }
  ]
}