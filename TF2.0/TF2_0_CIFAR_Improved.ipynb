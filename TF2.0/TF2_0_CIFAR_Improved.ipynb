{
  "nbformat": 4,
  "nbformat_minor": 0,
  "metadata": {
    "colab": {
      "name": "Copy of TF2.0 CIFAR Improved.ipynb",
      "provenance": [],
      "collapsed_sections": []
    },
    "kernelspec": {
      "name": "python3",
      "display_name": "Python 3"
    },
    "accelerator": "GPU"
  },
  "cells": [
    {
      "cell_type": "code",
      "metadata": {
        "id": "pmNpq8GML1jW",
        "colab": {
          "base_uri": "https://localhost:8080/"
        },
        "outputId": "79926e39-2cc2-4c72-fa98-b63a354ea955"
      },
      "source": [
        "import tensorflow as tf\n",
        "print(tf.__version__)"
      ],
      "execution_count": 1,
      "outputs": [
        {
          "output_type": "stream",
          "text": [
            "2.5.0\n"
          ],
          "name": "stdout"
        }
      ]
    },
    {
      "cell_type": "code",
      "metadata": {
        "id": "cBJh6ib6MEIW"
      },
      "source": [
        "# additional imports\n",
        "\n",
        "import numpy as np\n",
        "import matplotlib.pyplot as plt\n",
        "from tensorflow.keras.layers import Input, Conv2D, Dense, Flatten, Dropout, GlobalMaxPooling2D, MaxPooling2D, BatchNormalization\n",
        "from tensorflow.keras.models import Model"
      ],
      "execution_count": 2,
      "outputs": []
    },
    {
      "cell_type": "code",
      "metadata": {
        "id": "H_EGZv1TL4S_",
        "colab": {
          "base_uri": "https://localhost:8080/"
        },
        "outputId": "da3cccc8-1cd9-402f-bfda-28ff4f8cc3bc"
      },
      "source": [
        "# Load in the data\n",
        "cifar10 = tf.keras.datasets.cifar10\n",
        "\n",
        "(x_train, y_train), (x_test, y_test) = cifar10.load_data()\n",
        "x_train, x_test = x_train / 255.0, x_test / 255.0\n",
        "y_train, y_test = y_train.flatten(), y_test.flatten()\n",
        "print(\"x_train.shape:\", x_train.shape)\n",
        "print(\"y_train.shape\", y_train.shape)"
      ],
      "execution_count": 3,
      "outputs": [
        {
          "output_type": "stream",
          "text": [
            "Downloading data from https://www.cs.toronto.edu/~kriz/cifar-10-python.tar.gz\n",
            "170500096/170498071 [==============================] - 4s 0us/step\n",
            "x_train.shape: (50000, 32, 32, 3)\n",
            "y_train.shape (50000,)\n"
          ],
          "name": "stdout"
        }
      ]
    },
    {
      "cell_type": "code",
      "metadata": {
        "id": "1Wr15bYpMwbB",
        "colab": {
          "base_uri": "https://localhost:8080/"
        },
        "outputId": "7771bcf5-2262-4a2d-f463-bb0c29f0484e"
      },
      "source": [
        "# number of classes\n",
        "K = len(set(y_train))\n",
        "print(\"number of classes:\", K)"
      ],
      "execution_count": 4,
      "outputs": [
        {
          "output_type": "stream",
          "text": [
            "number of classes: 10\n"
          ],
          "name": "stdout"
        }
      ]
    },
    {
      "cell_type": "code",
      "metadata": {
        "id": "Mmo66uQoMA1Q"
      },
      "source": [
        "# Build the model using the functional API\n",
        "i = Input(shape=x_train[0].shape)\n",
        "# x = Conv2D(32, (3, 3), strides=2, activation='relu')(i)\n",
        "# x = Conv2D(64, (3, 3), strides=2, activation='relu')(x)\n",
        "# x = Conv2D(128, (3, 3), strides=2, activation='relu')(x)\n",
        "\n",
        "x = Conv2D(32, (3, 3), activation='relu', padding='same')(i)\n",
        "x = BatchNormalization()(x)\n",
        "x = Conv2D(32, (3, 3), activation='relu', padding='same')(x)\n",
        "x = BatchNormalization()(x)\n",
        "x = MaxPooling2D((2, 2))(x)\n",
        "# x = Dropout(0.2)(x)\n",
        "x = Conv2D(64, (3, 3), activation='relu', padding='same')(x)\n",
        "x = BatchNormalization()(x)\n",
        "x = Conv2D(64, (3, 3), activation='relu', padding='same')(x)\n",
        "x = BatchNormalization()(x)\n",
        "x = MaxPooling2D((2, 2))(x)\n",
        "# x = Dropout(0.2)(x)\n",
        "x = Conv2D(128, (3, 3), activation='relu', padding='same')(x)\n",
        "x = BatchNormalization()(x)\n",
        "x = Conv2D(128, (3, 3), activation='relu', padding='same')(x)\n",
        "x = BatchNormalization()(x)\n",
        "x = MaxPooling2D((2, 2))(x)\n",
        "# x = Dropout(0.2)(x)\n",
        "\n",
        "# x = GlobalMaxPooling2D()(x)\n",
        "x = Flatten()(x)\n",
        "x = Dropout(0.2)(x)\n",
        "x = Dense(1024, activation='relu')(x)\n",
        "x = Dropout(0.2)(x)\n",
        "x = Dense(K, activation='softmax')(x)\n",
        "\n",
        "model = Model(i, x)"
      ],
      "execution_count": 5,
      "outputs": []
    },
    {
      "cell_type": "code",
      "metadata": {
        "id": "0zF9n0P7NcP-"
      },
      "source": [
        "# Compile\n",
        "# Note: make sure you are using the GPU for this!\n",
        "model.compile(optimizer='adam',\n",
        "              loss='sparse_categorical_crossentropy',\n",
        "              metrics=['accuracy'])"
      ],
      "execution_count": 6,
      "outputs": []
    },
    {
      "cell_type": "code",
      "metadata": {
        "id": "BBzAGEjOkvFz",
        "colab": {
          "base_uri": "https://localhost:8080/"
        },
        "outputId": "3bef1033-26ce-40f4-98cc-7f68783a86d6"
      },
      "source": [
        "# Fit\n",
        "r = model.fit(x_train, y_train, validation_data=(x_test, y_test), epochs=50)"
      ],
      "execution_count": 7,
      "outputs": [
        {
          "output_type": "stream",
          "text": [
            "Epoch 1/50\n",
            "1563/1563 [==============================] - 43s 7ms/step - loss: 1.2907 - accuracy: 0.5552 - val_loss: 1.0901 - val_accuracy: 0.6264\n",
            "Epoch 2/50\n",
            "1563/1563 [==============================] - 10s 7ms/step - loss: 0.8466 - accuracy: 0.7066 - val_loss: 0.8134 - val_accuracy: 0.7203\n",
            "Epoch 3/50\n",
            "1563/1563 [==============================] - 10s 6ms/step - loss: 0.6862 - accuracy: 0.7625 - val_loss: 0.9510 - val_accuracy: 0.6855\n",
            "Epoch 4/50\n",
            "1563/1563 [==============================] - 10s 6ms/step - loss: 0.5828 - accuracy: 0.7986 - val_loss: 0.6555 - val_accuracy: 0.7852\n",
            "Epoch 5/50\n",
            "1563/1563 [==============================] - 10s 6ms/step - loss: 0.4943 - accuracy: 0.8288 - val_loss: 0.7075 - val_accuracy: 0.7640\n",
            "Epoch 6/50\n",
            "1563/1563 [==============================] - 10s 7ms/step - loss: 0.4270 - accuracy: 0.8538 - val_loss: 0.6165 - val_accuracy: 0.8048\n",
            "Epoch 7/50\n",
            "1563/1563 [==============================] - 10s 7ms/step - loss: 0.3593 - accuracy: 0.8759 - val_loss: 0.6735 - val_accuracy: 0.7832\n",
            "Epoch 8/50\n",
            "1563/1563 [==============================] - 10s 6ms/step - loss: 0.3093 - accuracy: 0.8930 - val_loss: 0.6250 - val_accuracy: 0.8058\n",
            "Epoch 9/50\n",
            "1563/1563 [==============================] - 10s 7ms/step - loss: 0.2555 - accuracy: 0.9126 - val_loss: 0.7274 - val_accuracy: 0.7909\n",
            "Epoch 10/50\n",
            "1563/1563 [==============================] - 10s 7ms/step - loss: 0.2226 - accuracy: 0.9241 - val_loss: 0.6187 - val_accuracy: 0.8247\n",
            "Epoch 11/50\n",
            "1563/1563 [==============================] - 10s 6ms/step - loss: 0.2005 - accuracy: 0.9309 - val_loss: 0.7027 - val_accuracy: 0.8183\n",
            "Epoch 12/50\n",
            "1563/1563 [==============================] - 10s 6ms/step - loss: 0.1739 - accuracy: 0.9399 - val_loss: 0.7144 - val_accuracy: 0.8251\n",
            "Epoch 13/50\n",
            "1563/1563 [==============================] - 10s 6ms/step - loss: 0.1618 - accuracy: 0.9455 - val_loss: 0.6835 - val_accuracy: 0.8304\n",
            "Epoch 14/50\n",
            "1563/1563 [==============================] - 10s 7ms/step - loss: 0.1505 - accuracy: 0.9495 - val_loss: 0.7932 - val_accuracy: 0.8224\n",
            "Epoch 15/50\n",
            "1563/1563 [==============================] - 10s 6ms/step - loss: 0.1294 - accuracy: 0.9566 - val_loss: 0.6753 - val_accuracy: 0.8302\n",
            "Epoch 16/50\n",
            "1563/1563 [==============================] - 10s 6ms/step - loss: 0.1288 - accuracy: 0.9568 - val_loss: 0.7674 - val_accuracy: 0.8251\n",
            "Epoch 17/50\n",
            "1563/1563 [==============================] - 10s 6ms/step - loss: 0.1109 - accuracy: 0.9621 - val_loss: 0.7865 - val_accuracy: 0.8298\n",
            "Epoch 18/50\n",
            "1563/1563 [==============================] - 10s 6ms/step - loss: 0.1081 - accuracy: 0.9636 - val_loss: 0.7620 - val_accuracy: 0.8278\n",
            "Epoch 19/50\n",
            "1563/1563 [==============================] - 10s 6ms/step - loss: 0.1037 - accuracy: 0.9646 - val_loss: 0.8104 - val_accuracy: 0.8272\n",
            "Epoch 20/50\n",
            "1563/1563 [==============================] - 10s 6ms/step - loss: 0.0973 - accuracy: 0.9678 - val_loss: 0.7887 - val_accuracy: 0.8302\n",
            "Epoch 21/50\n",
            "1563/1563 [==============================] - 10s 7ms/step - loss: 0.0957 - accuracy: 0.9680 - val_loss: 0.7101 - val_accuracy: 0.8442\n",
            "Epoch 22/50\n",
            "1563/1563 [==============================] - 10s 6ms/step - loss: 0.0854 - accuracy: 0.9712 - val_loss: 0.7964 - val_accuracy: 0.8171\n",
            "Epoch 23/50\n",
            "1563/1563 [==============================] - 10s 7ms/step - loss: 0.0848 - accuracy: 0.9717 - val_loss: 0.7940 - val_accuracy: 0.8271\n",
            "Epoch 24/50\n",
            "1563/1563 [==============================] - 10s 6ms/step - loss: 0.0776 - accuracy: 0.9745 - val_loss: 0.7929 - val_accuracy: 0.8378\n",
            "Epoch 25/50\n",
            "1563/1563 [==============================] - 10s 7ms/step - loss: 0.0745 - accuracy: 0.9749 - val_loss: 0.7211 - val_accuracy: 0.8367\n",
            "Epoch 26/50\n",
            "1563/1563 [==============================] - 10s 6ms/step - loss: 0.0740 - accuracy: 0.9755 - val_loss: 0.7940 - val_accuracy: 0.8303\n",
            "Epoch 27/50\n",
            "1563/1563 [==============================] - 10s 6ms/step - loss: 0.0662 - accuracy: 0.9789 - val_loss: 0.8393 - val_accuracy: 0.8303\n",
            "Epoch 28/50\n",
            "1563/1563 [==============================] - 10s 6ms/step - loss: 0.0707 - accuracy: 0.9766 - val_loss: 0.7958 - val_accuracy: 0.8386\n",
            "Epoch 29/50\n",
            "1563/1563 [==============================] - 10s 6ms/step - loss: 0.0699 - accuracy: 0.9777 - val_loss: 0.8584 - val_accuracy: 0.8378\n",
            "Epoch 30/50\n",
            "1563/1563 [==============================] - 10s 6ms/step - loss: 0.0630 - accuracy: 0.9795 - val_loss: 0.8210 - val_accuracy: 0.8399\n",
            "Epoch 31/50\n",
            "1563/1563 [==============================] - 10s 6ms/step - loss: 0.0601 - accuracy: 0.9802 - val_loss: 0.8765 - val_accuracy: 0.8311\n",
            "Epoch 32/50\n",
            "1563/1563 [==============================] - 10s 7ms/step - loss: 0.0610 - accuracy: 0.9807 - val_loss: 0.8301 - val_accuracy: 0.8411\n",
            "Epoch 33/50\n",
            "1563/1563 [==============================] - 10s 7ms/step - loss: 0.0575 - accuracy: 0.9809 - val_loss: 0.8990 - val_accuracy: 0.8407\n",
            "Epoch 34/50\n",
            "1563/1563 [==============================] - 11s 7ms/step - loss: 0.0557 - accuracy: 0.9818 - val_loss: 0.7421 - val_accuracy: 0.8380\n",
            "Epoch 35/50\n",
            "1563/1563 [==============================] - 10s 6ms/step - loss: 0.0494 - accuracy: 0.9837 - val_loss: 0.8479 - val_accuracy: 0.8355\n",
            "Epoch 36/50\n",
            "1563/1563 [==============================] - 10s 7ms/step - loss: 0.0569 - accuracy: 0.9812 - val_loss: 0.7597 - val_accuracy: 0.8370\n",
            "Epoch 37/50\n",
            "1563/1563 [==============================] - 10s 7ms/step - loss: 0.0544 - accuracy: 0.9825 - val_loss: 0.8211 - val_accuracy: 0.8421\n",
            "Epoch 38/50\n",
            "1563/1563 [==============================] - 10s 6ms/step - loss: 0.0538 - accuracy: 0.9832 - val_loss: 0.8651 - val_accuracy: 0.8418\n",
            "Epoch 39/50\n",
            "1563/1563 [==============================] - 10s 6ms/step - loss: 0.0489 - accuracy: 0.9847 - val_loss: 0.9345 - val_accuracy: 0.8314\n",
            "Epoch 40/50\n",
            "1563/1563 [==============================] - 10s 6ms/step - loss: 0.0475 - accuracy: 0.9844 - val_loss: 0.8513 - val_accuracy: 0.8322\n",
            "Epoch 41/50\n",
            "1563/1563 [==============================] - 11s 7ms/step - loss: 0.0509 - accuracy: 0.9839 - val_loss: 0.9729 - val_accuracy: 0.8368\n",
            "Epoch 42/50\n",
            "1563/1563 [==============================] - 10s 7ms/step - loss: 0.0471 - accuracy: 0.9851 - val_loss: 0.8024 - val_accuracy: 0.8403\n",
            "Epoch 43/50\n",
            "1563/1563 [==============================] - 10s 6ms/step - loss: 0.0440 - accuracy: 0.9857 - val_loss: 0.9127 - val_accuracy: 0.8367\n",
            "Epoch 44/50\n",
            "1563/1563 [==============================] - 10s 6ms/step - loss: 0.0461 - accuracy: 0.9858 - val_loss: 0.8597 - val_accuracy: 0.8446\n",
            "Epoch 45/50\n",
            "1563/1563 [==============================] - 11s 7ms/step - loss: 0.0443 - accuracy: 0.9858 - val_loss: 0.8763 - val_accuracy: 0.8455\n",
            "Epoch 46/50\n",
            "1563/1563 [==============================] - 10s 6ms/step - loss: 0.0416 - accuracy: 0.9866 - val_loss: 0.9275 - val_accuracy: 0.8417\n",
            "Epoch 47/50\n",
            "1563/1563 [==============================] - 10s 6ms/step - loss: 0.0448 - accuracy: 0.9856 - val_loss: 0.9185 - val_accuracy: 0.8460\n",
            "Epoch 48/50\n",
            "1563/1563 [==============================] - 10s 6ms/step - loss: 0.0432 - accuracy: 0.9863 - val_loss: 0.8682 - val_accuracy: 0.8472\n",
            "Epoch 49/50\n",
            "1563/1563 [==============================] - 10s 7ms/step - loss: 0.0396 - accuracy: 0.9873 - val_loss: 0.8022 - val_accuracy: 0.8399\n",
            "Epoch 50/50\n",
            "1563/1563 [==============================] - 10s 7ms/step - loss: 0.0421 - accuracy: 0.9866 - val_loss: 0.8704 - val_accuracy: 0.8419\n"
          ],
          "name": "stdout"
        }
      ]
    },
    {
      "cell_type": "code",
      "metadata": {
        "id": "af61hXUrYjsZ",
        "colab": {
          "base_uri": "https://localhost:8080/"
        },
        "outputId": "8a02e33b-bf3b-489f-e70e-1028d991284e"
      },
      "source": [
        "# Fit with data augmentation\n",
        "# Note: if you run this AFTER calling the previous model.fit(), it will CONTINUE training where it left off\n",
        "batch_size = 32\n",
        "data_generator = tf.keras.preprocessing.image.ImageDataGenerator(width_shift_range=0.1, height_shift_range=0.1, horizontal_flip=True)\n",
        "train_generator = data_generator.flow(x_train, y_train, batch_size)\n",
        "steps_per_epoch = x_train.shape[0] // batch_size\n",
        "r = model.fit(train_generator, validation_data=(x_test, y_test), steps_per_epoch=steps_per_epoch, epochs=50)"
      ],
      "execution_count": 8,
      "outputs": [
        {
          "output_type": "stream",
          "text": [
            "Epoch 1/50\n",
            "1562/1562 [==============================] - 29s 18ms/step - loss: 0.5360 - accuracy: 0.8287 - val_loss: 0.4750 - val_accuracy: 0.8480\n",
            "Epoch 2/50\n",
            "1562/1562 [==============================] - 28s 18ms/step - loss: 0.4412 - accuracy: 0.8557 - val_loss: 0.4813 - val_accuracy: 0.8451\n",
            "Epoch 3/50\n",
            "1562/1562 [==============================] - 28s 18ms/step - loss: 0.4004 - accuracy: 0.8653 - val_loss: 0.4479 - val_accuracy: 0.8546\n",
            "Epoch 4/50\n",
            "1562/1562 [==============================] - 28s 18ms/step - loss: 0.3817 - accuracy: 0.8723 - val_loss: 0.4656 - val_accuracy: 0.8493\n",
            "Epoch 5/50\n",
            "1562/1562 [==============================] - 28s 18ms/step - loss: 0.3621 - accuracy: 0.8794 - val_loss: 0.4762 - val_accuracy: 0.8533\n",
            "Epoch 6/50\n",
            "1562/1562 [==============================] - 28s 18ms/step - loss: 0.3517 - accuracy: 0.8825 - val_loss: 0.4355 - val_accuracy: 0.8561\n",
            "Epoch 7/50\n",
            "1562/1562 [==============================] - 28s 18ms/step - loss: 0.3314 - accuracy: 0.8899 - val_loss: 0.4549 - val_accuracy: 0.8544\n",
            "Epoch 8/50\n",
            "1562/1562 [==============================] - 28s 18ms/step - loss: 0.3236 - accuracy: 0.8916 - val_loss: 0.4231 - val_accuracy: 0.8653\n",
            "Epoch 9/50\n",
            "1562/1562 [==============================] - 28s 18ms/step - loss: 0.3123 - accuracy: 0.8942 - val_loss: 0.4747 - val_accuracy: 0.8543\n",
            "Epoch 10/50\n",
            "1562/1562 [==============================] - 28s 18ms/step - loss: 0.3048 - accuracy: 0.8973 - val_loss: 0.4582 - val_accuracy: 0.8510\n",
            "Epoch 11/50\n",
            "1562/1562 [==============================] - 28s 18ms/step - loss: 0.2934 - accuracy: 0.9015 - val_loss: 0.4170 - val_accuracy: 0.8649\n",
            "Epoch 12/50\n",
            "1562/1562 [==============================] - 28s 18ms/step - loss: 0.2914 - accuracy: 0.9023 - val_loss: 0.4292 - val_accuracy: 0.8672\n",
            "Epoch 13/50\n",
            "1562/1562 [==============================] - 28s 18ms/step - loss: 0.2762 - accuracy: 0.9060 - val_loss: 0.4115 - val_accuracy: 0.8641\n",
            "Epoch 14/50\n",
            "1562/1562 [==============================] - 28s 18ms/step - loss: 0.2719 - accuracy: 0.9088 - val_loss: 0.4048 - val_accuracy: 0.8721\n",
            "Epoch 15/50\n",
            "1562/1562 [==============================] - 28s 18ms/step - loss: 0.2689 - accuracy: 0.9084 - val_loss: 0.4274 - val_accuracy: 0.8660\n",
            "Epoch 16/50\n",
            "1562/1562 [==============================] - 28s 18ms/step - loss: 0.2582 - accuracy: 0.9111 - val_loss: 0.4206 - val_accuracy: 0.8707\n",
            "Epoch 17/50\n",
            "1562/1562 [==============================] - 28s 18ms/step - loss: 0.2558 - accuracy: 0.9137 - val_loss: 0.4400 - val_accuracy: 0.8635\n",
            "Epoch 18/50\n",
            "1562/1562 [==============================] - 28s 18ms/step - loss: 0.2499 - accuracy: 0.9153 - val_loss: 0.4286 - val_accuracy: 0.8674\n",
            "Epoch 19/50\n",
            "1562/1562 [==============================] - 28s 18ms/step - loss: 0.2473 - accuracy: 0.9153 - val_loss: 0.3941 - val_accuracy: 0.8723\n",
            "Epoch 20/50\n",
            "1562/1562 [==============================] - 28s 18ms/step - loss: 0.2399 - accuracy: 0.9183 - val_loss: 0.4305 - val_accuracy: 0.8645\n",
            "Epoch 21/50\n",
            "1562/1562 [==============================] - 29s 18ms/step - loss: 0.2378 - accuracy: 0.9194 - val_loss: 0.4048 - val_accuracy: 0.8711\n",
            "Epoch 22/50\n",
            "1562/1562 [==============================] - 28s 18ms/step - loss: 0.2346 - accuracy: 0.9218 - val_loss: 0.4286 - val_accuracy: 0.8746\n",
            "Epoch 23/50\n",
            "1562/1562 [==============================] - 28s 18ms/step - loss: 0.2273 - accuracy: 0.9240 - val_loss: 0.4502 - val_accuracy: 0.8696\n",
            "Epoch 24/50\n",
            "1562/1562 [==============================] - 28s 18ms/step - loss: 0.2202 - accuracy: 0.9258 - val_loss: 0.4363 - val_accuracy: 0.8738\n",
            "Epoch 25/50\n",
            "1562/1562 [==============================] - 28s 18ms/step - loss: 0.2233 - accuracy: 0.9242 - val_loss: 0.4318 - val_accuracy: 0.8717\n",
            "Epoch 26/50\n",
            "1562/1562 [==============================] - 28s 18ms/step - loss: 0.2176 - accuracy: 0.9266 - val_loss: 0.4349 - val_accuracy: 0.8761\n",
            "Epoch 27/50\n",
            "1562/1562 [==============================] - 28s 18ms/step - loss: 0.2145 - accuracy: 0.9254 - val_loss: 0.4310 - val_accuracy: 0.8749\n",
            "Epoch 28/50\n",
            "1562/1562 [==============================] - 28s 18ms/step - loss: 0.2150 - accuracy: 0.9270 - val_loss: 0.4192 - val_accuracy: 0.8763\n",
            "Epoch 29/50\n",
            "1562/1562 [==============================] - 29s 19ms/step - loss: 0.2088 - accuracy: 0.9294 - val_loss: 0.3996 - val_accuracy: 0.8742\n",
            "Epoch 30/50\n",
            "1562/1562 [==============================] - 30s 19ms/step - loss: 0.2090 - accuracy: 0.9290 - val_loss: 0.4279 - val_accuracy: 0.8696\n",
            "Epoch 31/50\n",
            "1562/1562 [==============================] - 28s 18ms/step - loss: 0.2017 - accuracy: 0.9312 - val_loss: 0.4158 - val_accuracy: 0.8764\n",
            "Epoch 32/50\n",
            "1562/1562 [==============================] - 28s 18ms/step - loss: 0.1968 - accuracy: 0.9332 - val_loss: 0.4123 - val_accuracy: 0.8714\n",
            "Epoch 33/50\n",
            "1562/1562 [==============================] - 28s 18ms/step - loss: 0.1979 - accuracy: 0.9326 - val_loss: 0.4018 - val_accuracy: 0.8820\n",
            "Epoch 34/50\n",
            "1562/1562 [==============================] - 28s 18ms/step - loss: 0.2004 - accuracy: 0.9330 - val_loss: 0.4252 - val_accuracy: 0.8787\n",
            "Epoch 35/50\n",
            "1562/1562 [==============================] - 28s 18ms/step - loss: 0.1908 - accuracy: 0.9347 - val_loss: 0.4526 - val_accuracy: 0.8751\n",
            "Epoch 36/50\n",
            "1562/1562 [==============================] - 29s 18ms/step - loss: 0.1899 - accuracy: 0.9354 - val_loss: 0.4412 - val_accuracy: 0.8752\n",
            "Epoch 37/50\n",
            "1562/1562 [==============================] - 28s 18ms/step - loss: 0.1854 - accuracy: 0.9373 - val_loss: 0.4241 - val_accuracy: 0.8826\n",
            "Epoch 38/50\n",
            "1562/1562 [==============================] - 28s 18ms/step - loss: 0.1832 - accuracy: 0.9391 - val_loss: 0.4548 - val_accuracy: 0.8782\n",
            "Epoch 39/50\n",
            "1562/1562 [==============================] - 28s 18ms/step - loss: 0.1824 - accuracy: 0.9381 - val_loss: 0.4574 - val_accuracy: 0.8809\n",
            "Epoch 40/50\n",
            "1562/1562 [==============================] - 28s 18ms/step - loss: 0.1766 - accuracy: 0.9403 - val_loss: 0.3964 - val_accuracy: 0.8836\n",
            "Epoch 41/50\n",
            "1562/1562 [==============================] - 29s 18ms/step - loss: 0.1749 - accuracy: 0.9396 - val_loss: 0.4687 - val_accuracy: 0.8782\n",
            "Epoch 42/50\n",
            "1562/1562 [==============================] - 29s 18ms/step - loss: 0.1797 - accuracy: 0.9382 - val_loss: 0.4120 - val_accuracy: 0.8791\n",
            "Epoch 43/50\n",
            "1562/1562 [==============================] - 29s 18ms/step - loss: 0.1766 - accuracy: 0.9395 - val_loss: 0.4414 - val_accuracy: 0.8779\n",
            "Epoch 44/50\n",
            "1562/1562 [==============================] - 31s 20ms/step - loss: 0.1753 - accuracy: 0.9402 - val_loss: 0.4197 - val_accuracy: 0.8819\n",
            "Epoch 45/50\n",
            "1562/1562 [==============================] - 29s 19ms/step - loss: 0.1712 - accuracy: 0.9429 - val_loss: 0.4568 - val_accuracy: 0.8728\n",
            "Epoch 46/50\n",
            "1562/1562 [==============================] - 30s 19ms/step - loss: 0.1687 - accuracy: 0.9434 - val_loss: 0.4471 - val_accuracy: 0.8767\n",
            "Epoch 47/50\n",
            "1562/1562 [==============================] - 29s 19ms/step - loss: 0.1691 - accuracy: 0.9434 - val_loss: 0.4386 - val_accuracy: 0.8828\n",
            "Epoch 48/50\n",
            "1562/1562 [==============================] - 28s 18ms/step - loss: 0.1686 - accuracy: 0.9426 - val_loss: 0.4169 - val_accuracy: 0.8819\n",
            "Epoch 49/50\n",
            "1562/1562 [==============================] - 28s 18ms/step - loss: 0.1677 - accuracy: 0.9434 - val_loss: 0.4156 - val_accuracy: 0.8753\n",
            "Epoch 50/50\n",
            "1562/1562 [==============================] - 29s 19ms/step - loss: 0.1604 - accuracy: 0.9459 - val_loss: 0.4350 - val_accuracy: 0.8865\n"
          ],
          "name": "stdout"
        }
      ]
    },
    {
      "cell_type": "code",
      "metadata": {
        "id": "ML37hw4iOkBm",
        "colab": {
          "base_uri": "https://localhost:8080/",
          "height": 284
        },
        "outputId": "c931202a-4572-4443-e528-29c519fd48ea"
      },
      "source": [
        "# Plot loss per iteration\n",
        "import matplotlib.pyplot as plt\n",
        "plt.plot(r.history['loss'], label='loss')\n",
        "plt.plot(r.history['val_loss'], label='val_loss')\n",
        "plt.legend()"
      ],
      "execution_count": 9,
      "outputs": [
        {
          "output_type": "execute_result",
          "data": {
            "text/plain": [
              "<matplotlib.legend.Legend at 0x7fc4f00f6fd0>"
            ]
          },
          "metadata": {
            "tags": []
          },
          "execution_count": 9
        },
        {
          "output_type": "display_data",
          "data": {
            "image/png": "[encoded data removed]",
            "text/plain": [
              "<Figure size 432x288 with 1 Axes>"
            ]
          },
          "metadata": {
            "tags": [],
            "needs_background": "light"
          }
        }
      ]
    },
    {
      "cell_type": "code",
      "metadata": {
        "id": "pemstSDIOpIb",
        "colab": {
          "base_uri": "https://localhost:8080/",
          "height": 282
        },
        "outputId": "a427b751-02d8-4c32-d9c2-fef60eefd965"
      },
      "source": [
        "# Plot accuracy per iteration\n",
        "plt.plot(r.history['accuracy'], label='acc')\n",
        "plt.plot(r.history['val_accuracy'], label='val_acc')\n",
        "plt.legend()"
      ],
      "execution_count": 10,
      "outputs": [
        {
          "output_type": "execute_result",
          "data": {
            "text/plain": [
              "<matplotlib.legend.Legend at 0x7fc4f0028450>"
            ]
          },
          "metadata": {
            "tags": []
          },
          "execution_count": 10
        },
        {
          "output_type": "display_data",
          "data": {
            "image/png": "[encoded data removed]",
            "text/plain": [
              "<Figure size 432x288 with 1 Axes>"
            ]
          },
          "metadata": {
            "tags": [],
            "needs_background": "light"
          }
        }
      ]
    },
    {
      "cell_type": "code",
      "metadata": {
        "id": "2LJTd4OiO6kL",
        "colab": {
          "base_uri": "https://localhost:8080/",
          "height": 496
        },
        "outputId": "c322f820-afd2-41c4-f73b-92da5ade2f7c"
      },
      "source": [
        "# Plot confusion matrix\n",
        "from sklearn.metrics import confusion_matrix\n",
        "import itertools\n",
        "\n",
        "def plot_confusion_matrix(cm, classes,\n",
        "                          normalize=False,\n",
        "                          title='Confusion matrix',\n",
        "                          cmap=plt.cm.Blues):\n",
        "  \"\"\"\n",
        "  This function prints and plots the confusion matrix.\n",
        "  Normalization can be applied by setting `normalize=True`.\n",
        "  \"\"\"\n",
        "  if normalize:\n",
        "      cm = cm.astype('float') / cm.sum(axis=1)[:, np.newaxis]\n",
        "      print(\"Normalized confusion matrix\")\n",
        "  else:\n",
        "      print('Confusion matrix, without normalization')\n",
        "\n",
        "  print(cm)\n",
        "\n",
        "  plt.imshow(cm, interpolation='nearest', cmap=cmap)\n",
        "  plt.title(title)\n",
        "  plt.colorbar()\n",
        "  tick_marks = np.arange(len(classes))\n",
        "  plt.xticks(tick_marks, classes, rotation=45)\n",
        "  plt.yticks(tick_marks, classes)\n",
        "\n",
        "  fmt = '.2f' if normalize else 'd'\n",
        "  thresh = cm.max() / 2.\n",
        "  for i, j in itertools.product(range(cm.shape[0]), range(cm.shape[1])):\n",
        "      plt.text(j, i, format(cm[i, j], fmt),\n",
        "               horizontalalignment=\"center\",\n",
        "               color=\"white\" if cm[i, j] > thresh else \"black\")\n",
        "\n",
        "  plt.tight_layout()\n",
        "  plt.ylabel('True label')\n",
        "  plt.xlabel('Predicted label')\n",
        "  plt.show()\n",
        "\n",
        "\n",
        "p_test = model.predict(x_test).argmax(axis=1)\n",
        "cm = confusion_matrix(y_test, p_test)\n",
        "plot_confusion_matrix(cm, list(range(10)))\n",
        "\n"
      ],
      "execution_count": 11,
      "outputs": [
        {
          "output_type": "stream",
          "text": [
            "Confusion matrix, without normalization\n",
            "[[909  13  26   9   9   0   4   5  15  10]\n",
            " [  4 959   0   2   1   1   1   1   2  29]\n",
            " [ 21   1 869  19  37  13  30   6   3   1]\n",
            " [  9   6  44 756  42  73  41  19   5   5]\n",
            " [  8   1  28  17 890   9  16  28   1   2]\n",
            " [  6   1  24  88  30 799  14  33   1   4]\n",
            " [  3   0  33  22   7   4 927   3   1   0]\n",
            " [  6   3  10  13  21  14   4 924   1   4]\n",
            " [ 45  11   6   3   1   0   1   3 912  18]\n",
            " [ 10  49   2   6   0   0   7   1   5 920]]\n"
          ],
          "name": "stdout"
        },
        {
          "output_type": "display_data",
          "data": {
            "image/png": "[encoded data removed]",
            "text/plain": [
              "<Figure size 432x288 with 2 Axes>"
            ]
          },
          "metadata": {
            "tags": [],
            "needs_background": "light"
          }
        }
      ]
    },
    {
      "cell_type": "code",
      "metadata": {
        "id": "AgQqQHXNXDgw"
      },
      "source": [
        "# label mapping\n",
        "labels = '''airplane\n",
        "automobile\n",
        "bird\n",
        "cat\n",
        "deer\n",
        "dog\n",
        "frog\n",
        "horse\n",
        "ship\n",
        "truck'''.split()"
      ],
      "execution_count": 12,
      "outputs": []
    },
    {
      "cell_type": "code",
      "metadata": {
        "id": "jjmW4STFO-Ny",
        "colab": {
          "base_uri": "https://localhost:8080/",
          "height": 281
        },
        "outputId": "d7989851-e591-4812-dc7e-dcb842e0ee36"
      },
      "source": [
        "# Show some misclassified examples\n",
        "misclassified_idx = np.where(p_test != y_test)[0]\n",
        "i = np.random.choice(misclassified_idx)\n",
        "plt.imshow(x_test[i], cmap='gray')\n",
        "plt.title(\"True label: %s Predicted: %s\" % (labels[y_test[i]], labels[p_test[i]]));"
      ],
      "execution_count": 15,
      "outputs": [
        {
          "output_type": "display_data",
          "data": {
            "image/png": "[encoded data removed]",
            "text/plain": [
              "<Figure size 432x288 with 1 Axes>"
            ]
          },
          "metadata": {
            "tags": [],
            "needs_background": "light"
          }
        }
      ]
    },
    {
      "cell_type": "code",
      "metadata": {
        "id": "qNw6PmshWjoZ",
        "colab": {
          "base_uri": "https://localhost:8080/",
          "height": 867
        },
        "outputId": "2c6b2193-df37-4083-8f74-a22733ec65f3"
      },
      "source": [
        "# Now that the model is so large, it's useful to summarize it\n",
        "model.summary()"
      ],
      "execution_count": null,
      "outputs": [
        {
          "output_type": "stream",
          "text": [
            "Model: \"model\"\n",
            "_________________________________________________________________\n",
            "Layer (type)                 Output Shape              Param #   \n",
            "=================================================================\n",
            "input_1 (InputLayer)         [(None, 32, 32, 3)]       0         \n",
            "_________________________________________________________________\n",
            "conv2d (Conv2D)              (None, 32, 32, 32)        896       \n",
            "_________________________________________________________________\n",
            "batch_normalization (BatchNo (None, 32, 32, 32)        128       \n",
            "_________________________________________________________________\n",
            "conv2d_1 (Conv2D)            (None, 32, 32, 32)        9248      \n",
            "_________________________________________________________________\n",
            "batch_normalization_1 (Batch (None, 32, 32, 32)        128       \n",
            "_________________________________________________________________\n",
            "max_pooling2d (MaxPooling2D) (None, 16, 16, 32)        0         \n",
            "_________________________________________________________________\n",
            "conv2d_2 (Conv2D)            (None, 16, 16, 64)        18496     \n",
            "_________________________________________________________________\n",
            "batch_normalization_2 (Batch (None, 16, 16, 64)        256       \n",
            "_________________________________________________________________\n",
            "conv2d_3 (Conv2D)            (None, 16, 16, 64)        36928     \n",
            "_________________________________________________________________\n",
            "batch_normalization_3 (Batch (None, 16, 16, 64)        256       \n",
            "_________________________________________________________________\n",
            "max_pooling2d_1 (MaxPooling2 (None, 8, 8, 64)          0         \n",
            "_________________________________________________________________\n",
            "conv2d_4 (Conv2D)            (None, 8, 8, 128)         73856     \n",
            "_________________________________________________________________\n",
            "batch_normalization_4 (Batch (None, 8, 8, 128)         512       \n",
            "_________________________________________________________________\n",
            "conv2d_5 (Conv2D)            (None, 8, 8, 128)         147584    \n",
            "_________________________________________________________________\n",
            "batch_normalization_5 (Batch (None, 8, 8, 128)         512       \n",
            "_________________________________________________________________\n",
            "max_pooling2d_2 (MaxPooling2 (None, 4, 4, 128)         0         \n",
            "_________________________________________________________________\n",
            "flatten (Flatten)            (None, 2048)              0         \n",
            "_________________________________________________________________\n",
            "dropout (Dropout)            (None, 2048)              0         \n",
            "_________________________________________________________________\n",
            "dense (Dense)                (None, 1024)              2098176   \n",
            "_________________________________________________________________\n",
            "dropout_1 (Dropout)          (None, 1024)              0         \n",
            "_________________________________________________________________\n",
            "dense_1 (Dense)              (None, 10)                10250     \n",
            "=================================================================\n",
            "Total params: 2,397,226\n",
            "Trainable params: 2,396,330\n",
            "Non-trainable params: 896\n",
            "_________________________________________________________________\n"
          ],
          "name": "stdout"
        }
      ]
    }
  ]
}